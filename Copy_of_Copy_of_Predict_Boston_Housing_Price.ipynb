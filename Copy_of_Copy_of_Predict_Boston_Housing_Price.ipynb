{
  "nbformat": 4,
  "nbformat_minor": 0,
  "metadata": {
    "colab": {
      "name": "Copy of Copy of Predict Boston Housing Price.ipynb",
      "provenance": [],
      "collapsed_sections": [],
      "include_colab_link": true
    },
    "kernelspec": {
      "name": "python3",
      "display_name": "Python 3"
    },
    "accelerator": "GPU"
  },
  "cells": [
    {
      "cell_type": "markdown",
      "metadata": {
        "id": "view-in-github",
        "colab_type": "text"
      },
      "source": [
        "<a href=\"https://colab.research.google.com/github/AjinJayan/AJ/blob/master/Copy_of_Copy_of_Predict_Boston_Housing_Price.ipynb\" target=\"_parent\"><img src=\"https://colab.research.google.com/assets/colab-badge.svg\" alt=\"Open In Colab\"/></a>"
      ]
    },
    {
      "cell_type": "code",
      "metadata": {
        "id": "SpnJzKHkswHf",
        "colab_type": "code",
        "colab": {}
      },
      "source": [
        "import pandas as pd\n",
        "import numpy as np\n",
        "from sklearn import linear_model\n",
        "import matplotlib.pyplot as plt\n",
        "plt.rcParams['figure.figsize']=(12.0,9.0)\n"
      ],
      "execution_count": 0,
      "outputs": []
    },
    {
      "cell_type": "code",
      "metadata": {
        "id": "GS7O0-iAu7pO",
        "colab_type": "code",
        "outputId": "887523b1-1c6a-44e8-9385-9a21fac88596",
        "colab": {
          "base_uri": "https://localhost:8080/",
          "height": 1000
        }
      },
      "source": [
        "#Load the Boston Housing Data Set from sklearn.datasets and print it\n",
        "from sklearn.datasets import load_boston\n",
        "boston = load_boston()\n",
        "print(boston)"
      ],
      "execution_count": 0,
      "outputs": [
        {
          "output_type": "stream",
          "text": [
            "{'data': array([[6.3200e-03, 1.8000e+01, 2.3100e+00, ..., 1.5300e+01, 3.9690e+02,\n",
            "        4.9800e+00],\n",
            "       [2.7310e-02, 0.0000e+00, 7.0700e+00, ..., 1.7800e+01, 3.9690e+02,\n",
            "        9.1400e+00],\n",
            "       [2.7290e-02, 0.0000e+00, 7.0700e+00, ..., 1.7800e+01, 3.9283e+02,\n",
            "        4.0300e+00],\n",
            "       ...,\n",
            "       [6.0760e-02, 0.0000e+00, 1.1930e+01, ..., 2.1000e+01, 3.9690e+02,\n",
            "        5.6400e+00],\n",
            "       [1.0959e-01, 0.0000e+00, 1.1930e+01, ..., 2.1000e+01, 3.9345e+02,\n",
            "        6.4800e+00],\n",
            "       [4.7410e-02, 0.0000e+00, 1.1930e+01, ..., 2.1000e+01, 3.9690e+02,\n",
            "        7.8800e+00]]), 'target': array([24. , 21.6, 34.7, 33.4, 36.2, 28.7, 22.9, 27.1, 16.5, 18.9, 15. ,\n",
            "       18.9, 21.7, 20.4, 18.2, 19.9, 23.1, 17.5, 20.2, 18.2, 13.6, 19.6,\n",
            "       15.2, 14.5, 15.6, 13.9, 16.6, 14.8, 18.4, 21. , 12.7, 14.5, 13.2,\n",
            "       13.1, 13.5, 18.9, 20. , 21. , 24.7, 30.8, 34.9, 26.6, 25.3, 24.7,\n",
            "       21.2, 19.3, 20. , 16.6, 14.4, 19.4, 19.7, 20.5, 25. , 23.4, 18.9,\n",
            "       35.4, 24.7, 31.6, 23.3, 19.6, 18.7, 16. , 22.2, 25. , 33. , 23.5,\n",
            "       19.4, 22. , 17.4, 20.9, 24.2, 21.7, 22.8, 23.4, 24.1, 21.4, 20. ,\n",
            "       20.8, 21.2, 20.3, 28. , 23.9, 24.8, 22.9, 23.9, 26.6, 22.5, 22.2,\n",
            "       23.6, 28.7, 22.6, 22. , 22.9, 25. , 20.6, 28.4, 21.4, 38.7, 43.8,\n",
            "       33.2, 27.5, 26.5, 18.6, 19.3, 20.1, 19.5, 19.5, 20.4, 19.8, 19.4,\n",
            "       21.7, 22.8, 18.8, 18.7, 18.5, 18.3, 21.2, 19.2, 20.4, 19.3, 22. ,\n",
            "       20.3, 20.5, 17.3, 18.8, 21.4, 15.7, 16.2, 18. , 14.3, 19.2, 19.6,\n",
            "       23. , 18.4, 15.6, 18.1, 17.4, 17.1, 13.3, 17.8, 14. , 14.4, 13.4,\n",
            "       15.6, 11.8, 13.8, 15.6, 14.6, 17.8, 15.4, 21.5, 19.6, 15.3, 19.4,\n",
            "       17. , 15.6, 13.1, 41.3, 24.3, 23.3, 27. , 50. , 50. , 50. , 22.7,\n",
            "       25. , 50. , 23.8, 23.8, 22.3, 17.4, 19.1, 23.1, 23.6, 22.6, 29.4,\n",
            "       23.2, 24.6, 29.9, 37.2, 39.8, 36.2, 37.9, 32.5, 26.4, 29.6, 50. ,\n",
            "       32. , 29.8, 34.9, 37. , 30.5, 36.4, 31.1, 29.1, 50. , 33.3, 30.3,\n",
            "       34.6, 34.9, 32.9, 24.1, 42.3, 48.5, 50. , 22.6, 24.4, 22.5, 24.4,\n",
            "       20. , 21.7, 19.3, 22.4, 28.1, 23.7, 25. , 23.3, 28.7, 21.5, 23. ,\n",
            "       26.7, 21.7, 27.5, 30.1, 44.8, 50. , 37.6, 31.6, 46.7, 31.5, 24.3,\n",
            "       31.7, 41.7, 48.3, 29. , 24. , 25.1, 31.5, 23.7, 23.3, 22. , 20.1,\n",
            "       22.2, 23.7, 17.6, 18.5, 24.3, 20.5, 24.5, 26.2, 24.4, 24.8, 29.6,\n",
            "       42.8, 21.9, 20.9, 44. , 50. , 36. , 30.1, 33.8, 43.1, 48.8, 31. ,\n",
            "       36.5, 22.8, 30.7, 50. , 43.5, 20.7, 21.1, 25.2, 24.4, 35.2, 32.4,\n",
            "       32. , 33.2, 33.1, 29.1, 35.1, 45.4, 35.4, 46. , 50. , 32.2, 22. ,\n",
            "       20.1, 23.2, 22.3, 24.8, 28.5, 37.3, 27.9, 23.9, 21.7, 28.6, 27.1,\n",
            "       20.3, 22.5, 29. , 24.8, 22. , 26.4, 33.1, 36.1, 28.4, 33.4, 28.2,\n",
            "       22.8, 20.3, 16.1, 22.1, 19.4, 21.6, 23.8, 16.2, 17.8, 19.8, 23.1,\n",
            "       21. , 23.8, 23.1, 20.4, 18.5, 25. , 24.6, 23. , 22.2, 19.3, 22.6,\n",
            "       19.8, 17.1, 19.4, 22.2, 20.7, 21.1, 19.5, 18.5, 20.6, 19. , 18.7,\n",
            "       32.7, 16.5, 23.9, 31.2, 17.5, 17.2, 23.1, 24.5, 26.6, 22.9, 24.1,\n",
            "       18.6, 30.1, 18.2, 20.6, 17.8, 21.7, 22.7, 22.6, 25. , 19.9, 20.8,\n",
            "       16.8, 21.9, 27.5, 21.9, 23.1, 50. , 50. , 50. , 50. , 50. , 13.8,\n",
            "       13.8, 15. , 13.9, 13.3, 13.1, 10.2, 10.4, 10.9, 11.3, 12.3,  8.8,\n",
            "        7.2, 10.5,  7.4, 10.2, 11.5, 15.1, 23.2,  9.7, 13.8, 12.7, 13.1,\n",
            "       12.5,  8.5,  5. ,  6.3,  5.6,  7.2, 12.1,  8.3,  8.5,  5. , 11.9,\n",
            "       27.9, 17.2, 27.5, 15. , 17.2, 17.9, 16.3,  7. ,  7.2,  7.5, 10.4,\n",
            "        8.8,  8.4, 16.7, 14.2, 20.8, 13.4, 11.7,  8.3, 10.2, 10.9, 11. ,\n",
            "        9.5, 14.5, 14.1, 16.1, 14.3, 11.7, 13.4,  9.6,  8.7,  8.4, 12.8,\n",
            "       10.5, 17.1, 18.4, 15.4, 10.8, 11.8, 14.9, 12.6, 14.1, 13. , 13.4,\n",
            "       15.2, 16.1, 17.8, 14.9, 14.1, 12.7, 13.5, 14.9, 20. , 16.4, 17.7,\n",
            "       19.5, 20.2, 21.4, 19.9, 19. , 19.1, 19.1, 20.1, 19.9, 19.6, 23.2,\n",
            "       29.8, 13.8, 13.3, 16.7, 12. , 14.6, 21.4, 23. , 23.7, 25. , 21.8,\n",
            "       20.6, 21.2, 19.1, 20.6, 15.2,  7. ,  8.1, 13.6, 20.1, 21.8, 24.5,\n",
            "       23.1, 19.7, 18.3, 21.2, 17.5, 16.8, 22.4, 20.6, 23.9, 22. , 11.9]), 'feature_names': array(['CRIM', 'ZN', 'INDUS', 'CHAS', 'NOX', 'RM', 'AGE', 'DIS', 'RAD',\n",
            "       'TAX', 'PTRATIO', 'B', 'LSTAT'], dtype='<U7'), 'DESCR': \".. _boston_dataset:\\n\\nBoston house prices dataset\\n---------------------------\\n\\n**Data Set Characteristics:**  \\n\\n    :Number of Instances: 506 \\n\\n    :Number of Attributes: 13 numeric/categorical predictive. Median Value (attribute 14) is usually the target.\\n\\n    :Attribute Information (in order):\\n        - CRIM     per capita crime rate by town\\n        - ZN       proportion of residential land zoned for lots over 25,000 sq.ft.\\n        - INDUS    proportion of non-retail business acres per town\\n        - CHAS     Charles River dummy variable (= 1 if tract bounds river; 0 otherwise)\\n        - NOX      nitric oxides concentration (parts per 10 million)\\n        - RM       average number of rooms per dwelling\\n        - AGE      proportion of owner-occupied units built prior to 1940\\n        - DIS      weighted distances to five Boston employment centres\\n        - RAD      index of accessibility to radial highways\\n        - TAX      full-value property-tax rate per $10,000\\n        - PTRATIO  pupil-teacher ratio by town\\n        - B        1000(Bk - 0.63)^2 where Bk is the proportion of blacks by town\\n        - LSTAT    % lower status of the population\\n        - MEDV     Median value of owner-occupied homes in $1000's\\n\\n    :Missing Attribute Values: None\\n\\n    :Creator: Harrison, D. and Rubinfeld, D.L.\\n\\nThis is a copy of UCI ML housing dataset.\\nhttps://archive.ics.uci.edu/ml/machine-learning-databases/housing/\\n\\n\\nThis dataset was taken from the StatLib library which is maintained at Carnegie Mellon University.\\n\\nThe Boston house-price data of Harrison, D. and Rubinfeld, D.L. 'Hedonic\\nprices and the demand for clean air', J. Environ. Economics & Management,\\nvol.5, 81-102, 1978.   Used in Belsley, Kuh & Welsch, 'Regression diagnostics\\n...', Wiley, 1980.   N.B. Various transformations are used in the table on\\npages 244-261 of the latter.\\n\\nThe Boston house-price data has been used in many machine learning papers that address regression\\nproblems.   \\n     \\n.. topic:: References\\n\\n   - Belsley, Kuh & Welsch, 'Regression diagnostics: Identifying Influential Data and Sources of Collinearity', Wiley, 1980. 244-261.\\n   - Quinlan,R. (1993). Combining Instance-Based and Model-Based Learning. In Proceedings on the Tenth International Conference of Machine Learning, 236-243, University of Massachusetts, Amherst. Morgan Kaufmann.\\n\", 'filename': '/usr/local/lib/python3.6/dist-packages/sklearn/datasets/data/boston_house_prices.csv'}\n"
          ],
          "name": "stdout"
        }
      ]
    },
    {
      "cell_type": "code",
      "metadata": {
        "id": "HkwSY2vHv0E_",
        "colab_type": "code",
        "colab": {}
      },
      "source": [
        "\n",
        "#      boston.feature_names = the column names of the data\n",
        "#      boston.target = Our target variable or the price of the houses\n",
        "df_x = pd.DataFrame(boston.data, columns = boston.feature_names)\n",
        "df_y = pd.DataFrame(boston.target)\n"
      ],
      "execution_count": 0,
      "outputs": []
    },
    {
      "cell_type": "code",
      "metadata": {
        "id": "NPSIuJwqpAaG",
        "colab_type": "code",
        "outputId": "6df15128-5ac5-4810-98ed-3d7c68fc90e3",
        "colab": {
          "base_uri": "https://localhost:8080/",
          "height": 206
        }
      },
      "source": [
        "df_x.head()"
      ],
      "execution_count": 0,
      "outputs": [
        {
          "output_type": "execute_result",
          "data": {
            "text/html": [
              "<div>\n",
              "<style scoped>\n",
              "    .dataframe tbody tr th:only-of-type {\n",
              "        vertical-align: middle;\n",
              "    }\n",
              "\n",
              "    .dataframe tbody tr th {\n",
              "        vertical-align: top;\n",
              "    }\n",
              "\n",
              "    .dataframe thead th {\n",
              "        text-align: right;\n",
              "    }\n",
              "</style>\n",
              "<table border=\"1\" class=\"dataframe\">\n",
              "  <thead>\n",
              "    <tr style=\"text-align: right;\">\n",
              "      <th></th>\n",
              "      <th>CRIM</th>\n",
              "      <th>ZN</th>\n",
              "      <th>INDUS</th>\n",
              "      <th>CHAS</th>\n",
              "      <th>NOX</th>\n",
              "      <th>RM</th>\n",
              "      <th>AGE</th>\n",
              "      <th>DIS</th>\n",
              "      <th>RAD</th>\n",
              "      <th>TAX</th>\n",
              "      <th>PTRATIO</th>\n",
              "      <th>B</th>\n",
              "      <th>LSTAT</th>\n",
              "    </tr>\n",
              "  </thead>\n",
              "  <tbody>\n",
              "    <tr>\n",
              "      <th>0</th>\n",
              "      <td>0.00632</td>\n",
              "      <td>18.0</td>\n",
              "      <td>2.31</td>\n",
              "      <td>0.0</td>\n",
              "      <td>0.538</td>\n",
              "      <td>6.575</td>\n",
              "      <td>65.2</td>\n",
              "      <td>4.0900</td>\n",
              "      <td>1.0</td>\n",
              "      <td>296.0</td>\n",
              "      <td>15.3</td>\n",
              "      <td>396.90</td>\n",
              "      <td>4.98</td>\n",
              "    </tr>\n",
              "    <tr>\n",
              "      <th>1</th>\n",
              "      <td>0.02731</td>\n",
              "      <td>0.0</td>\n",
              "      <td>7.07</td>\n",
              "      <td>0.0</td>\n",
              "      <td>0.469</td>\n",
              "      <td>6.421</td>\n",
              "      <td>78.9</td>\n",
              "      <td>4.9671</td>\n",
              "      <td>2.0</td>\n",
              "      <td>242.0</td>\n",
              "      <td>17.8</td>\n",
              "      <td>396.90</td>\n",
              "      <td>9.14</td>\n",
              "    </tr>\n",
              "    <tr>\n",
              "      <th>2</th>\n",
              "      <td>0.02729</td>\n",
              "      <td>0.0</td>\n",
              "      <td>7.07</td>\n",
              "      <td>0.0</td>\n",
              "      <td>0.469</td>\n",
              "      <td>7.185</td>\n",
              "      <td>61.1</td>\n",
              "      <td>4.9671</td>\n",
              "      <td>2.0</td>\n",
              "      <td>242.0</td>\n",
              "      <td>17.8</td>\n",
              "      <td>392.83</td>\n",
              "      <td>4.03</td>\n",
              "    </tr>\n",
              "    <tr>\n",
              "      <th>3</th>\n",
              "      <td>0.03237</td>\n",
              "      <td>0.0</td>\n",
              "      <td>2.18</td>\n",
              "      <td>0.0</td>\n",
              "      <td>0.458</td>\n",
              "      <td>6.998</td>\n",
              "      <td>45.8</td>\n",
              "      <td>6.0622</td>\n",
              "      <td>3.0</td>\n",
              "      <td>222.0</td>\n",
              "      <td>18.7</td>\n",
              "      <td>394.63</td>\n",
              "      <td>2.94</td>\n",
              "    </tr>\n",
              "    <tr>\n",
              "      <th>4</th>\n",
              "      <td>0.06905</td>\n",
              "      <td>0.0</td>\n",
              "      <td>2.18</td>\n",
              "      <td>0.0</td>\n",
              "      <td>0.458</td>\n",
              "      <td>7.147</td>\n",
              "      <td>54.2</td>\n",
              "      <td>6.0622</td>\n",
              "      <td>3.0</td>\n",
              "      <td>222.0</td>\n",
              "      <td>18.7</td>\n",
              "      <td>396.90</td>\n",
              "      <td>5.33</td>\n",
              "    </tr>\n",
              "  </tbody>\n",
              "</table>\n",
              "</div>"
            ],
            "text/plain": [
              "      CRIM    ZN  INDUS  CHAS    NOX  ...  RAD    TAX  PTRATIO       B  LSTAT\n",
              "0  0.00632  18.0   2.31   0.0  0.538  ...  1.0  296.0     15.3  396.90   4.98\n",
              "1  0.02731   0.0   7.07   0.0  0.469  ...  2.0  242.0     17.8  396.90   9.14\n",
              "2  0.02729   0.0   7.07   0.0  0.469  ...  2.0  242.0     17.8  392.83   4.03\n",
              "3  0.03237   0.0   2.18   0.0  0.458  ...  3.0  222.0     18.7  394.63   2.94\n",
              "4  0.06905   0.0   2.18   0.0  0.458  ...  3.0  222.0     18.7  396.90   5.33\n",
              "\n",
              "[5 rows x 13 columns]"
            ]
          },
          "metadata": {
            "tags": []
          },
          "execution_count": 790
        }
      ]
    },
    {
      "cell_type": "code",
      "metadata": {
        "id": "Y-DI9uinTOfU",
        "colab_type": "code",
        "outputId": "d381989b-43cc-41a7-eadc-94b800af78a6",
        "colab": {
          "base_uri": "https://localhost:8080/",
          "height": 206
        }
      },
      "source": [
        "df_y.head()"
      ],
      "execution_count": 0,
      "outputs": [
        {
          "output_type": "execute_result",
          "data": {
            "text/html": [
              "<div>\n",
              "<style scoped>\n",
              "    .dataframe tbody tr th:only-of-type {\n",
              "        vertical-align: middle;\n",
              "    }\n",
              "\n",
              "    .dataframe tbody tr th {\n",
              "        vertical-align: top;\n",
              "    }\n",
              "\n",
              "    .dataframe thead th {\n",
              "        text-align: right;\n",
              "    }\n",
              "</style>\n",
              "<table border=\"1\" class=\"dataframe\">\n",
              "  <thead>\n",
              "    <tr style=\"text-align: right;\">\n",
              "      <th></th>\n",
              "      <th>0</th>\n",
              "    </tr>\n",
              "  </thead>\n",
              "  <tbody>\n",
              "    <tr>\n",
              "      <th>0</th>\n",
              "      <td>24.0</td>\n",
              "    </tr>\n",
              "    <tr>\n",
              "      <th>1</th>\n",
              "      <td>21.6</td>\n",
              "    </tr>\n",
              "    <tr>\n",
              "      <th>2</th>\n",
              "      <td>34.7</td>\n",
              "    </tr>\n",
              "    <tr>\n",
              "      <th>3</th>\n",
              "      <td>33.4</td>\n",
              "    </tr>\n",
              "    <tr>\n",
              "      <th>4</th>\n",
              "      <td>36.2</td>\n",
              "    </tr>\n",
              "  </tbody>\n",
              "</table>\n",
              "</div>"
            ],
            "text/plain": [
              "      0\n",
              "0  24.0\n",
              "1  21.6\n",
              "2  34.7\n",
              "3  33.4\n",
              "4  36.2"
            ]
          },
          "metadata": {
            "tags": []
          },
          "execution_count": 791
        }
      ]
    },
    {
      "cell_type": "code",
      "metadata": {
        "id": "cqpoO2RR9d_e",
        "colab_type": "code",
        "colab": {}
      },
      "source": [
        "df_x=(df_x-df_x.mean())/df_x.std()"
      ],
      "execution_count": 0,
      "outputs": []
    },
    {
      "cell_type": "code",
      "metadata": {
        "id": "4_sQgord-Drn",
        "colab_type": "code",
        "outputId": "98aceeec-bf64-4252-e0b5-0dc2c273a985",
        "colab": {
          "base_uri": "https://localhost:8080/",
          "height": 35
        }
      },
      "source": [
        "theta=np.zeros([1,3])\n",
        "theta"
      ],
      "execution_count": 0,
      "outputs": [
        {
          "output_type": "execute_result",
          "data": {
            "text/plain": [
              "array([[0., 0., 0.]])"
            ]
          },
          "metadata": {
            "tags": []
          },
          "execution_count": 793
        }
      ]
    },
    {
      "cell_type": "code",
      "metadata": {
        "id": "E1tpoSza9uku",
        "colab_type": "code",
        "colab": {}
      },
      "source": [
        "X = df_x.iloc[:339,0:13]\n",
        "ones = np.ones([X.shape[0],1])\n",
        "X = np.concatenate((ones,X),axis=1)\n"
      ],
      "execution_count": 0,
      "outputs": []
    },
    {
      "cell_type": "code",
      "metadata": {
        "id": "f1BvQanZZrIW",
        "colab_type": "code",
        "outputId": "7c6e8ccf-a141-4b16-b6d6-51aad330c327",
        "colab": {
          "base_uri": "https://localhost:8080/",
          "height": 35
        }
      },
      "source": [
        "X.shape[0]"
      ],
      "execution_count": 0,
      "outputs": [
        {
          "output_type": "execute_result",
          "data": {
            "text/plain": [
              "339"
            ]
          },
          "metadata": {
            "tags": []
          },
          "execution_count": 795
        }
      ]
    },
    {
      "cell_type": "code",
      "metadata": {
        "id": "sktwlYVeDuGc",
        "colab_type": "code",
        "outputId": "7e069694-46f8-4780-a0e5-41de5f5f5c0a",
        "colab": {
          "base_uri": "https://localhost:8080/",
          "height": 256
        }
      },
      "source": [
        "\n",
        "X"
      ],
      "execution_count": 0,
      "outputs": [
        {
          "output_type": "execute_result",
          "data": {
            "text/plain": [
              "array([[ 1.        , -0.41936693,  0.28454827, ..., -1.45755797,\n",
              "         0.44061589, -1.07449897],\n",
              "       [ 1.        , -0.41692667, -0.48724019, ..., -0.3027945 ,\n",
              "         0.44061589, -0.49195252],\n",
              "       [ 1.        , -0.416929  , -0.48724019, ..., -0.3027945 ,\n",
              "         0.39603507, -1.20753241],\n",
              "       ...,\n",
              "       [ 1.        , -0.41611751, -0.48724019, ...,  0.80577843,\n",
              "         0.44061589, -0.39952929],\n",
              "       [ 1.        , -0.41656627, -0.48724019, ...,  0.80577843,\n",
              "         0.41772304, -0.29310254],\n",
              "       [ 1.        , -0.41625819, -0.48724019, ...,  0.80577843,\n",
              "         0.43229122, -0.5801747 ]])"
            ]
          },
          "metadata": {
            "tags": []
          },
          "execution_count": 796
        }
      ]
    },
    {
      "cell_type": "code",
      "metadata": {
        "id": "EoHRrDbb-2pH",
        "colab_type": "code",
        "outputId": "4cb329b1-705d-4638-9433-766c8ae64a28",
        "colab": {
          "base_uri": "https://localhost:8080/",
          "height": 424
        }
      },
      "source": [
        "X_test=df_x.iloc[339:506,0:13]\n",
        "X_test"
      ],
      "execution_count": 0,
      "outputs": [
        {
          "output_type": "execute_result",
          "data": {
            "text/html": [
              "<div>\n",
              "<style scoped>\n",
              "    .dataframe tbody tr th:only-of-type {\n",
              "        vertical-align: middle;\n",
              "    }\n",
              "\n",
              "    .dataframe tbody tr th {\n",
              "        vertical-align: top;\n",
              "    }\n",
              "\n",
              "    .dataframe thead th {\n",
              "        text-align: right;\n",
              "    }\n",
              "</style>\n",
              "<table border=\"1\" class=\"dataframe\">\n",
              "  <thead>\n",
              "    <tr style=\"text-align: right;\">\n",
              "      <th></th>\n",
              "      <th>CRIM</th>\n",
              "      <th>ZN</th>\n",
              "      <th>INDUS</th>\n",
              "      <th>CHAS</th>\n",
              "      <th>NOX</th>\n",
              "      <th>RM</th>\n",
              "      <th>AGE</th>\n",
              "      <th>DIS</th>\n",
              "      <th>RAD</th>\n",
              "      <th>TAX</th>\n",
              "      <th>PTRATIO</th>\n",
              "      <th>B</th>\n",
              "      <th>LSTAT</th>\n",
              "    </tr>\n",
              "  </thead>\n",
              "  <tbody>\n",
              "    <tr>\n",
              "      <th>339</th>\n",
              "      <td>-0.413711</td>\n",
              "      <td>-0.487240</td>\n",
              "      <td>-0.866833</td>\n",
              "      <td>-0.272329</td>\n",
              "      <td>-0.342560</td>\n",
              "      <td>-0.426455</td>\n",
              "      <td>-0.823298</td>\n",
              "      <td>0.483047</td>\n",
              "      <td>-0.522484</td>\n",
              "      <td>-1.093155</td>\n",
              "      <td>0.805778</td>\n",
              "      <td>0.440616</td>\n",
              "      <td>-0.407931</td>\n",
              "    </tr>\n",
              "    <tr>\n",
              "      <th>340</th>\n",
              "      <td>-0.412951</td>\n",
              "      <td>-0.487240</td>\n",
              "      <td>-0.866833</td>\n",
              "      <td>-0.272329</td>\n",
              "      <td>-0.342560</td>\n",
              "      <td>-0.450650</td>\n",
              "      <td>-0.357915</td>\n",
              "      <td>0.483047</td>\n",
              "      <td>-0.522484</td>\n",
              "      <td>-1.093155</td>\n",
              "      <td>0.805778</td>\n",
              "      <td>0.440616</td>\n",
              "      <td>-0.470947</td>\n",
              "    </tr>\n",
              "    <tr>\n",
              "      <th>341</th>\n",
              "      <td>-0.418589</td>\n",
              "      <td>1.013460</td>\n",
              "      <td>-1.401791</td>\n",
              "      <td>-0.272329</td>\n",
              "      <td>-0.972535</td>\n",
              "      <td>1.361148</td>\n",
              "      <td>-0.684749</td>\n",
              "      <td>1.540030</td>\n",
              "      <td>-0.981871</td>\n",
              "      <td>-0.737150</td>\n",
              "      <td>-1.365177</td>\n",
              "      <td>0.416956</td>\n",
              "      <td>-1.003081</td>\n",
              "    </tr>\n",
              "    <tr>\n",
              "      <th>342</th>\n",
              "      <td>-0.417198</td>\n",
              "      <td>-0.487240</td>\n",
              "      <td>-1.347858</td>\n",
              "      <td>-0.272329</td>\n",
              "      <td>-0.316671</td>\n",
              "      <td>0.363449</td>\n",
              "      <td>-0.315285</td>\n",
              "      <td>1.173883</td>\n",
              "      <td>-0.981871</td>\n",
              "      <td>0.081661</td>\n",
              "      <td>-1.180415</td>\n",
              "      <td>0.364598</td>\n",
              "      <td>-0.560570</td>\n",
              "    </tr>\n",
              "    <tr>\n",
              "      <th>343</th>\n",
              "      <td>-0.417145</td>\n",
              "      <td>1.871002</td>\n",
              "      <td>-1.072362</td>\n",
              "      <td>-0.272329</td>\n",
              "      <td>-0.610084</td>\n",
              "      <td>0.585476</td>\n",
              "      <td>-0.432518</td>\n",
              "      <td>0.919907</td>\n",
              "      <td>-0.522484</td>\n",
              "      <td>-0.226877</td>\n",
              "      <td>-0.395176</td>\n",
              "      <td>0.440616</td>\n",
              "      <td>-0.766422</td>\n",
              "    </tr>\n",
              "    <tr>\n",
              "      <th>...</th>\n",
              "      <td>...</td>\n",
              "      <td>...</td>\n",
              "      <td>...</td>\n",
              "      <td>...</td>\n",
              "      <td>...</td>\n",
              "      <td>...</td>\n",
              "      <td>...</td>\n",
              "      <td>...</td>\n",
              "      <td>...</td>\n",
              "      <td>...</td>\n",
              "      <td>...</td>\n",
              "      <td>...</td>\n",
              "      <td>...</td>\n",
              "    </tr>\n",
              "    <tr>\n",
              "      <th>501</th>\n",
              "      <td>-0.412820</td>\n",
              "      <td>-0.487240</td>\n",
              "      <td>0.115624</td>\n",
              "      <td>-0.272329</td>\n",
              "      <td>0.157968</td>\n",
              "      <td>0.438881</td>\n",
              "      <td>0.018654</td>\n",
              "      <td>-0.625178</td>\n",
              "      <td>-0.981871</td>\n",
              "      <td>-0.802418</td>\n",
              "      <td>1.175303</td>\n",
              "      <td>0.386834</td>\n",
              "      <td>-0.417734</td>\n",
              "    </tr>\n",
              "    <tr>\n",
              "      <th>502</th>\n",
              "      <td>-0.414839</td>\n",
              "      <td>-0.487240</td>\n",
              "      <td>0.115624</td>\n",
              "      <td>-0.272329</td>\n",
              "      <td>0.157968</td>\n",
              "      <td>-0.234316</td>\n",
              "      <td>0.288648</td>\n",
              "      <td>-0.715931</td>\n",
              "      <td>-0.981871</td>\n",
              "      <td>-0.802418</td>\n",
              "      <td>1.175303</td>\n",
              "      <td>0.440616</td>\n",
              "      <td>-0.500355</td>\n",
              "    </tr>\n",
              "    <tr>\n",
              "      <th>503</th>\n",
              "      <td>-0.413038</td>\n",
              "      <td>-0.487240</td>\n",
              "      <td>0.115624</td>\n",
              "      <td>-0.272329</td>\n",
              "      <td>0.157968</td>\n",
              "      <td>0.983986</td>\n",
              "      <td>0.796661</td>\n",
              "      <td>-0.772919</td>\n",
              "      <td>-0.981871</td>\n",
              "      <td>-0.802418</td>\n",
              "      <td>1.175303</td>\n",
              "      <td>0.440616</td>\n",
              "      <td>-0.982076</td>\n",
              "    </tr>\n",
              "    <tr>\n",
              "      <th>504</th>\n",
              "      <td>-0.407361</td>\n",
              "      <td>-0.487240</td>\n",
              "      <td>0.115624</td>\n",
              "      <td>-0.272329</td>\n",
              "      <td>0.157968</td>\n",
              "      <td>0.724955</td>\n",
              "      <td>0.736268</td>\n",
              "      <td>-0.667776</td>\n",
              "      <td>-0.981871</td>\n",
              "      <td>-0.802418</td>\n",
              "      <td>1.175303</td>\n",
              "      <td>0.402826</td>\n",
              "      <td>-0.864446</td>\n",
              "    </tr>\n",
              "    <tr>\n",
              "      <th>505</th>\n",
              "      <td>-0.414590</td>\n",
              "      <td>-0.487240</td>\n",
              "      <td>0.115624</td>\n",
              "      <td>-0.272329</td>\n",
              "      <td>0.157968</td>\n",
              "      <td>-0.362408</td>\n",
              "      <td>0.434302</td>\n",
              "      <td>-0.612640</td>\n",
              "      <td>-0.981871</td>\n",
              "      <td>-0.802418</td>\n",
              "      <td>1.175303</td>\n",
              "      <td>0.440616</td>\n",
              "      <td>-0.668397</td>\n",
              "    </tr>\n",
              "  </tbody>\n",
              "</table>\n",
              "<p>167 rows × 13 columns</p>\n",
              "</div>"
            ],
            "text/plain": [
              "         CRIM        ZN     INDUS  ...   PTRATIO         B     LSTAT\n",
              "339 -0.413711 -0.487240 -0.866833  ...  0.805778  0.440616 -0.407931\n",
              "340 -0.412951 -0.487240 -0.866833  ...  0.805778  0.440616 -0.470947\n",
              "341 -0.418589  1.013460 -1.401791  ... -1.365177  0.416956 -1.003081\n",
              "342 -0.417198 -0.487240 -1.347858  ... -1.180415  0.364598 -0.560570\n",
              "343 -0.417145  1.871002 -1.072362  ... -0.395176  0.440616 -0.766422\n",
              "..        ...       ...       ...  ...       ...       ...       ...\n",
              "501 -0.412820 -0.487240  0.115624  ...  1.175303  0.386834 -0.417734\n",
              "502 -0.414839 -0.487240  0.115624  ...  1.175303  0.440616 -0.500355\n",
              "503 -0.413038 -0.487240  0.115624  ...  1.175303  0.440616 -0.982076\n",
              "504 -0.407361 -0.487240  0.115624  ...  1.175303  0.402826 -0.864446\n",
              "505 -0.414590 -0.487240  0.115624  ...  1.175303  0.440616 -0.668397\n",
              "\n",
              "[167 rows x 13 columns]"
            ]
          },
          "metadata": {
            "tags": []
          },
          "execution_count": 797
        }
      ]
    },
    {
      "cell_type": "code",
      "metadata": {
        "id": "lX98lCJS-322",
        "colab_type": "code",
        "outputId": "086d65ac-6626-4ab0-a403-a3e8895159cb",
        "colab": {
          "base_uri": "https://localhost:8080/",
          "height": 35
        }
      },
      "source": [
        "y=df_y.iloc[:339].values\n",
        "theta=np.zeros([1,14])\n",
        "theta"
      ],
      "execution_count": 0,
      "outputs": [
        {
          "output_type": "execute_result",
          "data": {
            "text/plain": [
              "array([[0., 0., 0., 0., 0., 0., 0., 0., 0., 0., 0., 0., 0., 0.]])"
            ]
          },
          "metadata": {
            "tags": []
          },
          "execution_count": 798
        }
      ]
    },
    {
      "cell_type": "code",
      "metadata": {
        "id": "fVN7jErI_tKB",
        "colab_type": "code",
        "colab": {}
      },
      "source": [
        "def computeCost(X,y,theta):\n",
        "    tobesummed = np.power(((X @ theta.T)-y),2)\n",
        "    return np.sum(tobesummed)/(2 * len(X))"
      ],
      "execution_count": 0,
      "outputs": []
    },
    {
      "cell_type": "code",
      "metadata": {
        "id": "FQa-CGw2_0mg",
        "colab_type": "code",
        "colab": {}
      },
      "source": [
        "def gradientDescent(X,y,theta,iters,alpha):\n",
        "    cost = np.zeros(iters)\n",
        "    for i in range(iters):\n",
        "        theta = theta - (alpha/len(X)) * np.sum(X * (X @ theta.T - y), axis=0)\n",
        "        cost[i] = computeCost(X, y, theta)\n",
        "    return theta,cost\n",
        "\n",
        "\n",
        "    \n",
        "g,cost = gradientDescent(X,y,theta,1000,0.005)"
      ],
      "execution_count": 0,
      "outputs": []
    },
    {
      "cell_type": "code",
      "metadata": {
        "id": "nAwe17ASAAvz",
        "colab_type": "code",
        "outputId": "6466dcee-7a56-4f66-8494-5c0c8dbed4fb",
        "colab": {
          "base_uri": "https://localhost:8080/",
          "height": 72
        }
      },
      "source": [
        "print(g)"
      ],
      "execution_count": 0,
      "outputs": [
        {
          "output_type": "stream",
          "text": [
            "[[13.98913074 -4.69681162 -0.24000065  0.26639417  0.27309679 -0.2924336\n",
            "   5.33646591 -0.11831201 -1.40253137 -6.67205066 -4.65738083 -2.24417471\n",
            "   1.69977533 -2.20817475]]\n"
          ],
          "name": "stdout"
        }
      ]
    },
    {
      "cell_type": "code",
      "metadata": {
        "id": "fcrhXXCfBLi4",
        "colab_type": "code",
        "outputId": "daa91cc5-97fd-478d-e30e-19f1cf7dbbba",
        "colab": {
          "base_uri": "https://localhost:8080/",
          "height": 35
        }
      },
      "source": [
        "g.shape"
      ],
      "execution_count": 0,
      "outputs": [
        {
          "output_type": "execute_result",
          "data": {
            "text/plain": [
              "(1, 14)"
            ]
          },
          "metadata": {
            "tags": []
          },
          "execution_count": 802
        }
      ]
    },
    {
      "cell_type": "code",
      "metadata": {
        "id": "mGMMy7ZxQe46",
        "colab_type": "code",
        "outputId": "60ec14f1-fa5a-4861-b14d-a44ac1b2f9ce",
        "colab": {
          "base_uri": "https://localhost:8080/",
          "height": 72
        }
      },
      "source": [
        "g[0][1:14]"
      ],
      "execution_count": 0,
      "outputs": [
        {
          "output_type": "execute_result",
          "data": {
            "text/plain": [
              "array([-4.69681162, -0.24000065,  0.26639417,  0.27309679, -0.2924336 ,\n",
              "        5.33646591, -0.11831201, -1.40253137, -6.67205066, -4.65738083,\n",
              "       -2.24417471,  1.69977533, -2.20817475])"
            ]
          },
          "metadata": {
            "tags": []
          },
          "execution_count": 803
        }
      ]
    },
    {
      "cell_type": "code",
      "metadata": {
        "id": "UQfHF2pBADBt",
        "colab_type": "code",
        "outputId": "4e3974a8-1a64-43d8-caf1-c6f25656a7c4",
        "colab": {
          "base_uri": "https://localhost:8080/",
          "height": 35
        }
      },
      "source": [
        "finalCost=computeCost(X,y,g)\n",
        "print(finalCost)"
      ],
      "execution_count": 0,
      "outputs": [
        {
          "output_type": "stream",
          "text": [
            "7.2001960905553695\n"
          ],
          "name": "stdout"
        }
      ]
    },
    {
      "cell_type": "code",
      "metadata": {
        "id": "A1ONV58BBQZ_",
        "colab_type": "code",
        "outputId": "99e028c9-292c-4b95-92c2-80c7692f2682",
        "colab": {
          "base_uri": "https://localhost:8080/",
          "height": 788
        }
      },
      "source": [
        "y_predict=np.dot(X_test,g[0][1:14].T)\n",
        "y_predict"
      ],
      "execution_count": 0,
      "outputs": [
        {
          "output_type": "execute_result",
          "data": {
            "text/plain": [
              "array([  7.41780607,   7.3692074 ,  22.71588384,  12.7434342 ,\n",
              "        11.08480175,  12.69293365,   4.65154515,   2.68460694,\n",
              "         8.97000214,  12.92969333,  13.30032147,   9.93384489,\n",
              "         5.93255708,   0.42095111,  13.1930093 ,  -3.34052528,\n",
              "        -0.65067595, -22.78772917, -17.23071292, -19.48776217,\n",
              "       -20.46756528, -17.27504938, -20.29541778, -25.05643932,\n",
              "       -22.65888032,   3.43652026, -38.25819   , -30.09560273,\n",
              "       -46.70083755, -25.80669682, -12.29399085,  -9.58997105,\n",
              "       -20.71420697, -21.86449618, -39.01710984, -49.85021114,\n",
              "       -18.87523282, -25.21977939, -19.91723232, -31.37588039,\n",
              "       -28.8955607 , -60.58024418, -25.17162889, -30.08048693,\n",
              "       -29.81508763, -49.01325915, -38.32981371, -46.46989279,\n",
              "       -43.9828981 , -40.49647034, -29.86746096, -25.7783255 ,\n",
              "       -23.20859252, -35.94043091, -22.27928603, -27.54565574,\n",
              "       -20.88416908, -20.39192733, -26.59648551, -48.71941938,\n",
              "       -30.97792013, -36.28298496, -25.67217785, -23.10218326,\n",
              "       -38.88978587, -50.14212262, -60.94465627, -47.03881773,\n",
              "       -28.40274101, -30.53651279, -25.48530314, -54.10623425,\n",
              "       -29.92812105, -52.13836756, -45.72435583, -67.68533325,\n",
              "       -36.80250293, -29.24926674, -46.89508186, -68.27613374,\n",
              "       -28.04209567, -23.50527468, -24.53981363, -29.79383384,\n",
              "       -31.86862896, -34.88039941, -38.62806068, -33.76589396,\n",
              "       -44.8478284 , -29.13382035, -30.34753728, -27.49023121,\n",
              "       -25.39546219, -23.83324446, -24.98988306, -30.90600362,\n",
              "       -28.53975286, -31.42854339, -37.09351003, -39.04046874,\n",
              "       -29.51090028, -34.86309164, -23.12011622, -21.20909287,\n",
              "       -22.38494618, -32.90624838, -30.93693006, -22.46894379,\n",
              "       -23.49286506, -24.01844492, -23.30974819, -25.49490059,\n",
              "       -19.03701808, -20.84911357, -14.34479489, -27.57658326,\n",
              "       -25.44340309, -30.69488945, -32.5173847 , -24.29470298,\n",
              "       -22.61090655, -19.9289853 , -18.67622953, -20.52442235,\n",
              "       -17.56748699, -21.68551051, -23.99160177, -29.63320343,\n",
              "       -24.77183829, -29.89953512, -28.46896661, -20.98336783,\n",
              "       -19.26559973, -17.84662334, -13.63681997, -29.68115106,\n",
              "       -25.82072504, -19.25416789, -36.43561085, -24.48241005,\n",
              "       -24.61597587, -19.56112577, -14.76445664, -12.20941998,\n",
              "       -21.88717089, -22.02134482, -18.4128709 , -22.12398644,\n",
              "       -21.86143214,  -9.42990659, -12.50916626, -17.2465196 ,\n",
              "        -5.54033669,  -4.05418145,   1.7760366 ,   2.94069082,\n",
              "        -0.47561268,  -3.87543552,   1.32849755,   3.7626438 ,\n",
              "        -0.3451769 ,   3.27557975,  14.41344649,  11.19962992,\n",
              "        18.77614739,  16.90286994,  10.72386576])"
            ]
          },
          "metadata": {
            "tags": []
          },
          "execution_count": 805
        }
      ]
    },
    {
      "cell_type": "code",
      "metadata": {
        "id": "f6s56-VPSPPv",
        "colab_type": "code",
        "colab": {}
      },
      "source": [
        "\n",
        "y_cost_predit=y_predict+13.98913074 "
      ],
      "execution_count": 0,
      "outputs": []
    },
    {
      "cell_type": "code",
      "metadata": {
        "id": "qdiyZ5WnVlly",
        "colab_type": "code",
        "outputId": "5979671f-3dfb-4583-a5b2-cfa5051f1aa2",
        "colab": {
          "base_uri": "https://localhost:8080/",
          "height": 35
        }
      },
      "source": [
        "y_cost_predit.shape"
      ],
      "execution_count": 0,
      "outputs": [
        {
          "output_type": "execute_result",
          "data": {
            "text/plain": [
              "(167,)"
            ]
          },
          "metadata": {
            "tags": []
          },
          "execution_count": 807
        }
      ]
    },
    {
      "cell_type": "code",
      "metadata": {
        "id": "MHFVdTJxWSCc",
        "colab_type": "code",
        "outputId": "c937e47a-01cd-42b1-a2a9-8804d1e47407",
        "colab": {
          "base_uri": "https://localhost:8080/",
          "height": 35
        }
      },
      "source": [
        "y_new=np.reshape(y_cost_predit,(167,1))\n",
        "y_new.shape"
      ],
      "execution_count": 0,
      "outputs": [
        {
          "output_type": "execute_result",
          "data": {
            "text/plain": [
              "(167, 1)"
            ]
          },
          "metadata": {
            "tags": []
          },
          "execution_count": 808
        }
      ]
    },
    {
      "cell_type": "code",
      "metadata": {
        "id": "JybkCbthU8mA",
        "colab_type": "code",
        "outputId": "7168db1e-2351-4a78-87da-9430a1f2a7ee",
        "colab": {
          "base_uri": "https://localhost:8080/",
          "height": 35
        }
      },
      "source": [
        "df_y.iloc[339:506].shape\n"
      ],
      "execution_count": 0,
      "outputs": [
        {
          "output_type": "execute_result",
          "data": {
            "text/plain": [
              "(167, 1)"
            ]
          },
          "metadata": {
            "tags": []
          },
          "execution_count": 809
        }
      ]
    },
    {
      "cell_type": "code",
      "metadata": {
        "id": "RQJEb845sqzz",
        "colab_type": "code",
        "outputId": "6a3f8153-bcb7-4aa5-8867-ee46de77ab19",
        "colab": {
          "base_uri": "https://localhost:8080/",
          "height": 72
        }
      },
      "source": [
        "g"
      ],
      "execution_count": 0,
      "outputs": [
        {
          "output_type": "execute_result",
          "data": {
            "text/plain": [
              "array([[13.98913074, -4.69681162, -0.24000065,  0.26639417,  0.27309679,\n",
              "        -0.2924336 ,  5.33646591, -0.11831201, -1.40253137, -6.67205066,\n",
              "        -4.65738083, -2.24417471,  1.69977533, -2.20817475]])"
            ]
          },
          "metadata": {
            "tags": []
          },
          "execution_count": 810
        }
      ]
    },
    {
      "cell_type": "code",
      "metadata": {
        "id": "ArAC_rg_VJM9",
        "colab_type": "code",
        "outputId": "866fee48-4e93-4f32-bec5-d395ff1789b7",
        "colab": {
          "base_uri": "https://localhost:8080/",
          "height": 54
        }
      },
      "source": [
        "print(np.mean((df_y.iloc[339:506]-y_new)**2))"
      ],
      "execution_count": 0,
      "outputs": [
        {
          "output_type": "stream",
          "text": [
            "0    871.587118\n",
            "dtype: float64\n"
          ],
          "name": "stdout"
        }
      ]
    },
    {
      "cell_type": "code",
      "metadata": {
        "id": "wQUmbrQlANXv",
        "colab_type": "code",
        "outputId": "5e1e5202-c556-4caa-fc83-2ef3544b5ce8",
        "colab": {
          "base_uri": "https://localhost:8080/",
          "height": 569
        }
      },
      "source": [
        "g, ax = plt.subplots()  \n",
        "ax.plot(np.arange(1000), cost, 'r')  \n",
        "ax.set_xlabel('Iterations')  \n",
        "ax.set_ylabel('Cost')"
      ],
      "execution_count": 0,
      "outputs": [
        {
          "output_type": "execute_result",
          "data": {
            "text/plain": [
              "Text(0, 0.5, 'Cost')"
            ]
          },
          "metadata": {
            "tags": []
          },
          "execution_count": 812
        },
        {
          "output_type": "display_data",
          "data": {
            "image/png": "[encoded data removed]",
            "text/plain": [
              "<Figure size 864x648 with 1 Axes>"
            ]
          },
          "metadata": {
            "tags": []
          }
        }
      ]
    },
    {
      "cell_type": "code",
      "metadata": {
        "id": "G6TI1R5IAUFy",
        "colab_type": "code",
        "colab": {}
      },
      "source": [
        ""
      ],
      "execution_count": 0,
      "outputs": []
    }
  ]
}