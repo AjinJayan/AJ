{
  "nbformat": 4,
  "nbformat_minor": 0,
  "metadata": {
    "colab": {
      "name": "Untitled56.ipynb",
      "provenance": [],
      "collapsed_sections": [],
      "authorship_tag": "ABX9TyNEgSfRuXc/E6i4rjDJFQgs",
      "include_colab_link": true
    },
    "kernelspec": {
      "name": "python3",
      "display_name": "Python 3"
    }
  },
  "cells": [
    {
      "cell_type": "markdown",
      "metadata": {
        "id": "view-in-github",
        "colab_type": "text"
      },
      "source": [
        "<a href=\"https://colab.research.google.com/github/AjinJayan/AJ/blob/master/Untitled56.ipynb\" target=\"_parent\"><img src=\"https://colab.research.google.com/assets/colab-badge.svg\" alt=\"Open In Colab\"/></a>"
      ]
    },
    {
      "cell_type": "code",
      "metadata": {
        "id": "bTYco_TQHHay"
      },
      "source": [
        "import numpy as np\r\n",
        "\r\n",
        "def Rx(roll):\r\n",
        "    \"\"\" Rotation matrix arround x (roll)\r\n",
        "    \"\"\"\r\n",
        "#    roll = np.radians(roll)\r\n",
        "    return np.matrix([[1,            0,             0, 0],\r\n",
        "                      [0, np.cos(roll), -np.sin(roll), 0],\r\n",
        "                      [0, np.sin(roll),  np.cos(roll), 0],\r\n",
        "                      [0,            0,             0, 1]])\r\n",
        "\r\n",
        "def Ry(pitch):\r\n",
        "    \"\"\" Rotation matrix arround y (pitch)\r\n",
        "    \"\"\"\r\n",
        "#    pitch = np.radians(pitch)\r\n",
        "    return np.matrix([[ np.cos(pitch), 0, np.sin(pitch), 0],\r\n",
        "                      [             0, 1,             0, 0],\r\n",
        "                      [-np.sin(pitch), 0, np.cos(pitch), 0],\r\n",
        "                      [             0, 0,             0, 1]])\r\n",
        "\r\n",
        "def Rz(yaw):\r\n",
        "    \"\"\" Rotation matrix arround z (yaw)\r\n",
        "    \"\"\"\r\n",
        "#    yaw = np.radians(yaw)\r\n",
        "    return np.matrix([[np.cos(yaw), -np.sin(yaw), 0, 0],\r\n",
        "                      [np.sin(yaw),  np.cos(yaw), 0, 0],\r\n",
        "                      [          0,            0, 1, 0],\r\n",
        "                      [          0,            0, 0, 1]])\r\n",
        "    "
      ],
      "execution_count": 26,
      "outputs": []
    },
    {
      "cell_type": "code",
      "metadata": {
        "colab": {
          "base_uri": "https://localhost:8080/"
        },
        "id": "0KvJmBpgHTpM",
        "outputId": "bd2704ae-f99b-4e8c-ed0e-e42ec08b548b"
      },
      "source": [
        "print(Rx(15),\"\\n\")\r\n",
        "print(Ry(0),\"\\n\")\r\n",
        "print(Rz(-10),\"\\n\")"
      ],
      "execution_count": 27,
      "outputs": [
        {
          "output_type": "stream",
          "text": [
            "[[ 1.          0.          0.          0.        ]\n",
            " [ 0.         -0.75968791 -0.65028784  0.        ]\n",
            " [ 0.          0.65028784 -0.75968791  0.        ]\n",
            " [ 0.          0.          0.          1.        ]] \n",
            "\n",
            "[[ 1.  0.  0.  0.]\n",
            " [ 0.  1.  0.  0.]\n",
            " [-0.  0.  1.  0.]\n",
            " [ 0.  0.  0.  1.]] \n",
            "\n",
            "[[-0.83907153 -0.54402111  0.          0.        ]\n",
            " [ 0.54402111 -0.83907153  0.          0.        ]\n",
            " [ 0.          0.          1.          0.        ]\n",
            " [ 0.          0.          0.          1.        ]] \n",
            "\n"
          ],
          "name": "stdout"
        }
      ]
    },
    {
      "cell_type": "code",
      "metadata": {
        "id": "KOrXlsKsHjC9"
      },
      "source": [
        "def Rxyz(roll , pitch , yaw):\r\n",
        "    if roll != 0 or pitch != 0 or yaw != 0:\r\n",
        "        R = Rx(roll)*Ry(pitch)*Rz(yaw)\r\n",
        "        return R\r\n",
        "    else:\r\n",
        "        return np.identity(4)"
      ],
      "execution_count": 28,
      "outputs": []
    },
    {
      "cell_type": "code",
      "metadata": {
        "colab": {
          "base_uri": "https://localhost:8080/"
        },
        "id": "slcwOLdKIc8D",
        "outputId": "780432b9-3892-4fcd-ea1e-853e59d6849a"
      },
      "source": [
        "print(Rxyz(15,0,-10))"
      ],
      "execution_count": 29,
      "outputs": [
        {
          "output_type": "stream",
          "text": [
            "[[-0.83907153 -0.54402111  0.          0.        ]\n",
            " [-0.41328626  0.6374325  -0.65028784  0.        ]\n",
            " [ 0.35377031 -0.54563801 -0.75968791  0.        ]\n",
            " [ 0.          0.          0.          1.        ]]\n"
          ],
          "name": "stdout"
        }
      ]
    },
    {
      "cell_type": "code",
      "metadata": {
        "id": "bopHR3tXJ4Yi"
      },
      "source": [
        "def RTmatrix(orientation, position):\r\n",
        "    \"\"\"compose translation and rotation\"\"\"\r\n",
        "    roll = orientation[0]\r\n",
        "    pitch = orientation[1]\r\n",
        "    yaw = orientation[2]\r\n",
        "    x0 = position[0]\r\n",
        "    y0 = position[1]\r\n",
        "    z0 = position[2]\r\n",
        "    \r\n",
        "    translation = np.matrix([[1, 0, 0, x0],#Translation matrix\r\n",
        "                             [0, 1, 0, y0],\r\n",
        "                             [0, 0, 1, z0],\r\n",
        "                             [0, 0, 0,  1]])\r\n",
        "    rotation = Rxyz(roll, pitch, yaw)#rotation matrix\r\n",
        "    \r\n",
        "    return rotation*translation"
      ],
      "execution_count": 30,
      "outputs": []
    },
    {
      "cell_type": "code",
      "metadata": {
        "colab": {
          "base_uri": "https://localhost:8080/"
        },
        "id": "1m4RONnrJ7JP",
        "outputId": "5b7637e4-4689-4750-ae35-936948599e1a"
      },
      "source": [
        "print(RTmatrix([15,0,-10], [0,0,0]))"
      ],
      "execution_count": 31,
      "outputs": [
        {
          "output_type": "stream",
          "text": [
            "[[-0.83907153 -0.54402111  0.          0.        ]\n",
            " [-0.41328626  0.6374325  -0.65028784  0.        ]\n",
            " [ 0.35377031 -0.54563801 -0.75968791  0.        ]\n",
            " [ 0.          0.          0.          1.        ]]\n"
          ],
          "name": "stdout"
        }
      ]
    },
    {
      "cell_type": "code",
      "metadata": {
        "id": "f6lV7iQuKT16"
      },
      "source": [
        "def transform(coord,rotation,translation):\r\n",
        "    \"\"\"transforms a vector to a desire rotation and translation\"\"\"\r\n",
        "    vector = np.array([[coord[0]],\r\n",
        "                       [coord[1]],\r\n",
        "                       [coord[2]],\r\n",
        "                       [      1]])\r\n",
        "    \r\n",
        "    tranformVector = RTmatrix(rotation,translation)*vector\r\n",
        "    return np.array([tranformVector[0,0], tranformVector[1,0], tranformVector[2,0]])"
      ],
      "execution_count": 32,
      "outputs": []
    },
    {
      "cell_type": "code",
      "metadata": {
        "id": "NWdeebnLSNzZ"
      },
      "source": [
        "L=1\r\n",
        "W=0.4"
      ],
      "execution_count": 33,
      "outputs": []
    },
    {
      "cell_type": "code",
      "metadata": {
        "colab": {
          "base_uri": "https://localhost:8080/"
        },
        "id": "2TArRHTsPnza",
        "outputId": "3e7edacf-b5cb-4133-bcad-1ba707b46ba7"
      },
      "source": [
        "transform([L/2,W/2,0],[15,0,-15],[0,0,0])"
      ],
      "execution_count": 34,
      "outputs": [
        {
          "output_type": "execute_result",
          "data": {
            "text/plain": [
              "array([-0.24978639,  0.36243305, -0.3102403 ])"
            ]
          },
          "metadata": {
            "tags": []
          },
          "execution_count": 34
        }
      ]
    },
    {
      "cell_type": "code",
      "metadata": {
        "id": "dlhf4N-FiSSS"
      },
      "source": [
        ""
      ],
      "execution_count": null,
      "outputs": []
    }
  ]
}