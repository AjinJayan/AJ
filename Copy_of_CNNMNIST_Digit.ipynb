{
  "nbformat": 4,
  "nbformat_minor": 0,
  "metadata": {
    "colab": {
      "name": "Copy of CNNMNIST_Digit.ipynb",
      "provenance": [],
      "include_colab_link": true
    },
    "kernelspec": {
      "name": "python3",
      "display_name": "Python 3"
    },
    "accelerator": "GPU"
  },
  "cells": [
    {
      "cell_type": "markdown",
      "metadata": {
        "id": "view-in-github",
        "colab_type": "text"
      },
      "source": [
        "<a href=\"https://colab.research.google.com/github/AjinJayan/AJ/blob/master/Copy_of_CNNMNIST_Digit.ipynb\" target=\"_parent\"><img src=\"https://colab.research.google.com/assets/colab-badge.svg\" alt=\"Open In Colab\"/></a>"
      ]
    },
    {
      "cell_type": "code",
      "metadata": {
        "id": "jEm-PHZH2usk",
        "colab_type": "code",
        "colab": {}
      },
      "source": [
        "%tensorflow_version 2.x\n",
        "import tensorflow as tf\n",
        "import matplotlib.pyplot as plt\n",
        "import numpy as np\n",
        "from tensorflow.keras.layers import Input,Conv2D,Dense,Flatten,Dropout,MaxPool2D\n",
        "from tensorflow.keras.models import Model\n",
        "import time as t"
      ],
      "execution_count": 0,
      "outputs": []
    },
    {
      "cell_type": "code",
      "metadata": {
        "id": "26bCs_hO28Oj",
        "colab_type": "code",
        "outputId": "15cec6d1-0fdf-48e9-9e38-85d55b553289",
        "colab": {
          "base_uri": "https://localhost:8080/",
          "height": 34
        }
      },
      "source": [
        "mnist=tf.keras.datasets.mnist\n",
        "(x_train,y_train),(x_test,y_test)=mnist.load_data()\n",
        "x_train,x_test=x_train/255.0,x_test/255.0\n",
        "print(\"x_train.shape\",x_train.shape)"
      ],
      "execution_count": 0,
      "outputs": [
        {
          "output_type": "stream",
          "text": [
            "x_train.shape (60000, 28, 28)\n"
          ],
          "name": "stdout"
        }
      ]
    },
    {
      "cell_type": "code",
      "metadata": {
        "id": "gpA1YgXM3-do",
        "colab_type": "code",
        "outputId": "fa5ca256-c604-4a16-bede-221c91d7acea",
        "colab": {
          "base_uri": "https://localhost:8080/",
          "height": 34
        }
      },
      "source": [
        "x_train=np.expand_dims(x_train,-1)\n",
        "x_test = np.expand_dims(x_test,-1)\n",
        "print(x_train.shape)"
      ],
      "execution_count": 0,
      "outputs": [
        {
          "output_type": "stream",
          "text": [
            "(60000, 28, 28, 1)\n"
          ],
          "name": "stdout"
        }
      ]
    },
    {
      "cell_type": "code",
      "metadata": {
        "id": "GXvByBrZ6Giq",
        "colab_type": "code",
        "outputId": "e536bc52-3e2d-4b0c-fca3-ba486b0c49ee",
        "colab": {
          "base_uri": "https://localhost:8080/",
          "height": 34
        }
      },
      "source": [
        "K=len(set(y_train))\n",
        "print(\"Number of classes:\",K)"
      ],
      "execution_count": 0,
      "outputs": [
        {
          "output_type": "stream",
          "text": [
            "Number of classes: 10\n"
          ],
          "name": "stdout"
        }
      ]
    },
    {
      "cell_type": "code",
      "metadata": {
        "id": "zBRskRS_8AJS",
        "colab_type": "code",
        "colab": {}
      },
      "source": [
        "i=Input(shape=x_train[0].shape)\n",
        "x=Conv2D(32,(3,3),strides=2,activation='relu')(i)\n",
        "x=Conv2D(64,(3,3),strides=2,activation='relu')(x)\n",
        "x=MaxPool2D(pool_size=(2,2),strides=2,padding='valid')(x)\n",
        "x=Dropout(0.25)(x)\n",
        "x=Flatten()(x)\n",
        "x=Dense(128,activation='relu')(x)\n",
        "x=Dropout(0.5)(x)\n",
        "x=Dense(K,activation='softmax')(x)\n",
        "\n",
        "model=Model(i,x)"
      ],
      "execution_count": 0,
      "outputs": []
    },
    {
      "cell_type": "code",
      "metadata": {
        "id": "VwGpZ7nOPDd1",
        "colab_type": "code",
        "outputId": "f233f19f-dbac-463c-b25b-f0688d87e737",
        "colab": {
          "base_uri": "https://localhost:8080/",
          "height": 478
        }
      },
      "source": [
        "model.summary()"
      ],
      "execution_count": 0,
      "outputs": [
        {
          "output_type": "stream",
          "text": [
            "Model: \"model_1\"\n",
            "_________________________________________________________________\n",
            "Layer (type)                 Output Shape              Param #   \n",
            "=================================================================\n",
            "input_4 (InputLayer)         [(None, 28, 28, 1)]       0         \n",
            "_________________________________________________________________\n",
            "conv2d_8 (Conv2D)            (None, 13, 13, 32)        320       \n",
            "_________________________________________________________________\n",
            "conv2d_9 (Conv2D)            (None, 6, 6, 64)          18496     \n",
            "_________________________________________________________________\n",
            "max_pooling2d_2 (MaxPooling2 (None, 3, 3, 64)          0         \n",
            "_________________________________________________________________\n",
            "dropout_1 (Dropout)          (None, 3, 3, 64)          0         \n",
            "_________________________________________________________________\n",
            "flatten_1 (Flatten)          (None, 576)               0         \n",
            "_________________________________________________________________\n",
            "dense_2 (Dense)              (None, 128)               73856     \n",
            "_________________________________________________________________\n",
            "dropout_2 (Dropout)          (None, 128)               0         \n",
            "_________________________________________________________________\n",
            "dense_3 (Dense)              (None, 10)                1290      \n",
            "=================================================================\n",
            "Total params: 93,962\n",
            "Trainable params: 93,962\n",
            "Non-trainable params: 0\n",
            "_________________________________________________________________\n"
          ],
          "name": "stdout"
        }
      ]
    },
    {
      "cell_type": "code",
      "metadata": {
        "id": "plVUJF_388-B",
        "colab_type": "code",
        "outputId": "65483c06-a047-42fd-f1f1-728d455806f6",
        "colab": {
          "base_uri": "https://localhost:8080/",
          "height": 407
        }
      },
      "source": [
        "model.compile(optimizer='adam',\n",
        "              loss='sparse_categorical_crossentropy',\n",
        "              metrics=['accuracy'])\n",
        "A1=t.time()\n",
        "r=model.fit(x_train,y_train,validation_data=(x_test,y_test),epochs=10)\n",
        "A2=t.time()\n",
        "print(A2-A1)"
      ],
      "execution_count": 0,
      "outputs": [
        {
          "output_type": "stream",
          "text": [
            "Train on 60000 samples, validate on 10000 samples\n",
            "Epoch 1/10\n",
            "60000/60000 [==============================] - 12s 205us/sample - loss: 0.3808 - accuracy: 0.8786 - val_loss: 0.0928 - val_accuracy: 0.9677\n",
            "Epoch 2/10\n",
            "60000/60000 [==============================] - 6s 98us/sample - loss: 0.1593 - accuracy: 0.9509 - val_loss: 0.0632 - val_accuracy: 0.9781\n",
            "Epoch 3/10\n",
            "60000/60000 [==============================] - 6s 97us/sample - loss: 0.1247 - accuracy: 0.9621 - val_loss: 0.0520 - val_accuracy: 0.9831\n",
            "Epoch 4/10\n",
            "60000/60000 [==============================] - 6s 96us/sample - loss: 0.1030 - accuracy: 0.9691 - val_loss: 0.0453 - val_accuracy: 0.9847\n",
            "Epoch 5/10\n",
            "60000/60000 [==============================] - 6s 94us/sample - loss: 0.0917 - accuracy: 0.9717 - val_loss: 0.0416 - val_accuracy: 0.9869\n",
            "Epoch 6/10\n",
            "60000/60000 [==============================] - 6s 99us/sample - loss: 0.0855 - accuracy: 0.9734 - val_loss: 0.0366 - val_accuracy: 0.9866\n",
            "Epoch 7/10\n",
            "60000/60000 [==============================] - 6s 97us/sample - loss: 0.0765 - accuracy: 0.9758 - val_loss: 0.0328 - val_accuracy: 0.9893\n",
            "Epoch 8/10\n",
            "60000/60000 [==============================] - 6s 99us/sample - loss: 0.0722 - accuracy: 0.9769 - val_loss: 0.0355 - val_accuracy: 0.9885\n",
            "Epoch 9/10\n",
            "60000/60000 [==============================] - 6s 101us/sample - loss: 0.0659 - accuracy: 0.9798 - val_loss: 0.0359 - val_accuracy: 0.9877\n",
            "Epoch 10/10\n",
            "60000/60000 [==============================] - 6s 102us/sample - loss: 0.0616 - accuracy: 0.9802 - val_loss: 0.0296 - val_accuracy: 0.9900\n",
            "65.24516105651855\n"
          ],
          "name": "stdout"
        }
      ]
    },
    {
      "cell_type": "code",
      "metadata": {
        "id": "s5CvwUoA9iFs",
        "colab_type": "code",
        "outputId": "c6f81116-abb3-4fce-d976-cb3f16ec6549",
        "colab": {
          "base_uri": "https://localhost:8080/",
          "height": 282
        }
      },
      "source": [
        "plt.plot(r.history['loss'],label='loss')\n",
        "plt.plot(r.history['val_loss'],label='val_loss')\n",
        "plt.legend()"
      ],
      "execution_count": 0,
      "outputs": [
        {
          "output_type": "execute_result",
          "data": {
            "text/plain": [
              "<matplotlib.legend.Legend at 0x7f12c6e6b908>"
            ]
          },
          "metadata": {
            "tags": []
          },
          "execution_count": 24
        },
        {
          "output_type": "display_data",
          "data": {
            "image/png": "[encoded data removed]",
            "text/plain": [
              "<Figure size 432x288 with 1 Axes>"
            ]
          },
          "metadata": {
            "tags": []
          }
        }
      ]
    },
    {
      "cell_type": "code",
      "metadata": {
        "id": "wNyzp_F698cf",
        "colab_type": "code",
        "outputId": "1228a2ab-1dcd-4132-ea36-fd94c7ae90ac",
        "colab": {
          "base_uri": "https://localhost:8080/",
          "height": 282
        }
      },
      "source": [
        "plt.plot(r.history['accuracy'],label='acc')\n",
        "plt.plot(r.history['val_accuracy'],label='val_acc')\n",
        "plt.legend()"
      ],
      "execution_count": 0,
      "outputs": [
        {
          "output_type": "execute_result",
          "data": {
            "text/plain": [
              "<matplotlib.legend.Legend at 0x7f12c6949780>"
            ]
          },
          "metadata": {
            "tags": []
          },
          "execution_count": 25
        },
        {
          "output_type": "display_data",
          "data": {
            "image/png": "[encoded data removed]",
            "text/plain": [
              "<Figure size 432x288 with 1 Axes>"
            ]
          },
          "metadata": {
            "tags": []
          }
        }
      ]
    },
    {
      "cell_type": "code",
      "metadata": {
        "id": "UvTwdDQx-Maj",
        "colab_type": "code",
        "outputId": "223b3907-e5c7-48ea-bdb8-d16ed62bdbae",
        "colab": {
          "base_uri": "https://localhost:8080/",
          "height": 70
        }
      },
      "source": [
        "A3=t.time()\n",
        "print(model.evaluate(x_test,y_test))\n",
        "A4=t.time()\n",
        "print(A4-A3)"
      ],
      "execution_count": 0,
      "outputs": [
        {
          "output_type": "stream",
          "text": [
            "10000/10000 [==============================] - 1s 61us/sample - loss: 0.0296 - accuracy: 0.9900\n",
            "[0.029626153062496087, 0.99]\n",
            "0.6488223075866699\n"
          ],
          "name": "stdout"
        }
      ]
    },
    {
      "cell_type": "code",
      "metadata": {
        "id": "-6qaKC8m_liR",
        "colab_type": "code",
        "outputId": "a900d6e5-4721-444c-bad7-8d663481cf0d",
        "colab": {
          "base_uri": "https://localhost:8080/",
          "height": 34
        }
      },
      "source": [
        "predictions=model.predict([x_test])\n",
        "print(np.argmax(predictions[1000]))"
      ],
      "execution_count": 0,
      "outputs": [
        {
          "output_type": "stream",
          "text": [
            "9\n"
          ],
          "name": "stdout"
        }
      ]
    },
    {
      "cell_type": "code",
      "metadata": {
        "id": "aldZWpOg_tCg",
        "colab_type": "code",
        "colab": {}
      },
      "source": [
        ""
      ],
      "execution_count": 0,
      "outputs": []
    }
  ]
}