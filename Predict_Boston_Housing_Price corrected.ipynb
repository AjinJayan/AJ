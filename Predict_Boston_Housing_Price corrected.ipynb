{
  "nbformat": 4,
  "nbformat_minor": 0,
  "metadata": {
    "colab": {
      "name": "Predict Boston Housing Price.ipynb",
      "provenance": [],
      "collapsed_sections": [],
      "include_colab_link": true
    },
    "kernelspec": {
      "name": "python3",
      "display_name": "Python 3"
    }
  },
  "cells": [
    {
      "cell_type": "markdown",
      "metadata": {
        "id": "view-in-github",
        "colab_type": "text"
      },
      "source": [
        "<a href=\"https://colab.research.google.com/github/AjinJayan/AJ/blob/master/Predict_Boston_Housing_Price%20corrected.ipynb\" target=\"_parent\"><img src=\"https://colab.research.google.com/assets/colab-badge.svg\" alt=\"Open In Colab\"/></a>"
      ]
    },
    {
      "cell_type": "markdown",
      "metadata": {
        "id": "8g4rFjz83o6J",
        "colab_type": "text"
      },
      "source": [
        "# Predict Boston Housing Prices\n",
        "\n",
        "This python program predicts the price of houses in Boston using a machine learning algorithm called a Linear Regression.\n",
        "\n",
        "<p align=\"center\">\n",
        "  <img src=\"https://www.maxpixel.net/static/photo/1x/Top-View-Top-Boston-City-Urban-Houses-1401212.jpg\" width=\"400\"/>\n",
        "</p>\n",
        "\n",
        "\n",
        "# Linear Regression\n",
        "Linear regression is a linear approach to modeling the relationship between a scalar response (or dependent variable) and one or more explanatory variables (or independent variables).\n",
        "\n",
        "## Pros:\n",
        "1. Simple to implement.\n",
        "2. Used to predict numeric values.\n",
        "\n",
        "## Cons:\n",
        "1. Prone to overfitting.\n",
        "2. Cannot be used when the relation between independent and dependent variable are non linear.\n",
        "\n",
        "\n",
        "##Resources:\n",
        "\n",
        "*   https://scikit-learn.org/stable/modules/generated/sklearn.datasets.load_boston.html\n",
        "*   https://scikit-learn.org/stable/modules/generated/sklearn.linear_model.LinearRegression.html\n",
        "*   https://youtu.be/gOXoFDrseis\n",
        "\n",
        "\n",
        "\n"
      ]
    },
    {
      "cell_type": "code",
      "metadata": {
        "id": "SpnJzKHkswHf",
        "colab_type": "code",
        "colab": {}
      },
      "source": [
        "\n",
        "import pandas as pd\n",
        "import numpy as np\n",
        "from sklearn import linear_model\n",
        "from sklearn.model_selection import train_test_split\n"
      ],
      "execution_count": 0,
      "outputs": []
    },
    {
      "cell_type": "code",
      "metadata": {
        "id": "GS7O0-iAu7pO",
        "colab_type": "code",
        "outputId": "a4b6a388-dd01-41d4-e771-f8db1bc946e1",
        "colab": {
          "base_uri": "https://localhost:8080/",
          "height": 1000
        }
      },
      "source": [
        "#Load the Boston Housing Data Set from sklearn.datasets and print it\n",
        "from sklearn.datasets import load_boston\n",
        "boston = load_boston()\n",
        "print(boston)"
      ],
      "execution_count": 15,
      "outputs": [
        {
          "output_type": "stream",
          "text": [
            "{'data': array([[6.3200e-03, 1.8000e+01, 2.3100e+00, ..., 1.5300e+01, 3.9690e+02,\n",
            "        4.9800e+00],\n",
            "       [2.7310e-02, 0.0000e+00, 7.0700e+00, ..., 1.7800e+01, 3.9690e+02,\n",
            "        9.1400e+00],\n",
            "       [2.7290e-02, 0.0000e+00, 7.0700e+00, ..., 1.7800e+01, 3.9283e+02,\n",
            "        4.0300e+00],\n",
            "       ...,\n",
            "       [6.0760e-02, 0.0000e+00, 1.1930e+01, ..., 2.1000e+01, 3.9690e+02,\n",
            "        5.6400e+00],\n",
            "       [1.0959e-01, 0.0000e+00, 1.1930e+01, ..., 2.1000e+01, 3.9345e+02,\n",
            "        6.4800e+00],\n",
            "       [4.7410e-02, 0.0000e+00, 1.1930e+01, ..., 2.1000e+01, 3.9690e+02,\n",
            "        7.8800e+00]]), 'target': array([24. , 21.6, 34.7, 33.4, 36.2, 28.7, 22.9, 27.1, 16.5, 18.9, 15. ,\n",
            "       18.9, 21.7, 20.4, 18.2, 19.9, 23.1, 17.5, 20.2, 18.2, 13.6, 19.6,\n",
            "       15.2, 14.5, 15.6, 13.9, 16.6, 14.8, 18.4, 21. , 12.7, 14.5, 13.2,\n",
            "       13.1, 13.5, 18.9, 20. , 21. , 24.7, 30.8, 34.9, 26.6, 25.3, 24.7,\n",
            "       21.2, 19.3, 20. , 16.6, 14.4, 19.4, 19.7, 20.5, 25. , 23.4, 18.9,\n",
            "       35.4, 24.7, 31.6, 23.3, 19.6, 18.7, 16. , 22.2, 25. , 33. , 23.5,\n",
            "       19.4, 22. , 17.4, 20.9, 24.2, 21.7, 22.8, 23.4, 24.1, 21.4, 20. ,\n",
            "       20.8, 21.2, 20.3, 28. , 23.9, 24.8, 22.9, 23.9, 26.6, 22.5, 22.2,\n",
            "       23.6, 28.7, 22.6, 22. , 22.9, 25. , 20.6, 28.4, 21.4, 38.7, 43.8,\n",
            "       33.2, 27.5, 26.5, 18.6, 19.3, 20.1, 19.5, 19.5, 20.4, 19.8, 19.4,\n",
            "       21.7, 22.8, 18.8, 18.7, 18.5, 18.3, 21.2, 19.2, 20.4, 19.3, 22. ,\n",
            "       20.3, 20.5, 17.3, 18.8, 21.4, 15.7, 16.2, 18. , 14.3, 19.2, 19.6,\n",
            "       23. , 18.4, 15.6, 18.1, 17.4, 17.1, 13.3, 17.8, 14. , 14.4, 13.4,\n",
            "       15.6, 11.8, 13.8, 15.6, 14.6, 17.8, 15.4, 21.5, 19.6, 15.3, 19.4,\n",
            "       17. , 15.6, 13.1, 41.3, 24.3, 23.3, 27. , 50. , 50. , 50. , 22.7,\n",
            "       25. , 50. , 23.8, 23.8, 22.3, 17.4, 19.1, 23.1, 23.6, 22.6, 29.4,\n",
            "       23.2, 24.6, 29.9, 37.2, 39.8, 36.2, 37.9, 32.5, 26.4, 29.6, 50. ,\n",
            "       32. , 29.8, 34.9, 37. , 30.5, 36.4, 31.1, 29.1, 50. , 33.3, 30.3,\n",
            "       34.6, 34.9, 32.9, 24.1, 42.3, 48.5, 50. , 22.6, 24.4, 22.5, 24.4,\n",
            "       20. , 21.7, 19.3, 22.4, 28.1, 23.7, 25. , 23.3, 28.7, 21.5, 23. ,\n",
            "       26.7, 21.7, 27.5, 30.1, 44.8, 50. , 37.6, 31.6, 46.7, 31.5, 24.3,\n",
            "       31.7, 41.7, 48.3, 29. , 24. , 25.1, 31.5, 23.7, 23.3, 22. , 20.1,\n",
            "       22.2, 23.7, 17.6, 18.5, 24.3, 20.5, 24.5, 26.2, 24.4, 24.8, 29.6,\n",
            "       42.8, 21.9, 20.9, 44. , 50. , 36. , 30.1, 33.8, 43.1, 48.8, 31. ,\n",
            "       36.5, 22.8, 30.7, 50. , 43.5, 20.7, 21.1, 25.2, 24.4, 35.2, 32.4,\n",
            "       32. , 33.2, 33.1, 29.1, 35.1, 45.4, 35.4, 46. , 50. , 32.2, 22. ,\n",
            "       20.1, 23.2, 22.3, 24.8, 28.5, 37.3, 27.9, 23.9, 21.7, 28.6, 27.1,\n",
            "       20.3, 22.5, 29. , 24.8, 22. , 26.4, 33.1, 36.1, 28.4, 33.4, 28.2,\n",
            "       22.8, 20.3, 16.1, 22.1, 19.4, 21.6, 23.8, 16.2, 17.8, 19.8, 23.1,\n",
            "       21. , 23.8, 23.1, 20.4, 18.5, 25. , 24.6, 23. , 22.2, 19.3, 22.6,\n",
            "       19.8, 17.1, 19.4, 22.2, 20.7, 21.1, 19.5, 18.5, 20.6, 19. , 18.7,\n",
            "       32.7, 16.5, 23.9, 31.2, 17.5, 17.2, 23.1, 24.5, 26.6, 22.9, 24.1,\n",
            "       18.6, 30.1, 18.2, 20.6, 17.8, 21.7, 22.7, 22.6, 25. , 19.9, 20.8,\n",
            "       16.8, 21.9, 27.5, 21.9, 23.1, 50. , 50. , 50. , 50. , 50. , 13.8,\n",
            "       13.8, 15. , 13.9, 13.3, 13.1, 10.2, 10.4, 10.9, 11.3, 12.3,  8.8,\n",
            "        7.2, 10.5,  7.4, 10.2, 11.5, 15.1, 23.2,  9.7, 13.8, 12.7, 13.1,\n",
            "       12.5,  8.5,  5. ,  6.3,  5.6,  7.2, 12.1,  8.3,  8.5,  5. , 11.9,\n",
            "       27.9, 17.2, 27.5, 15. , 17.2, 17.9, 16.3,  7. ,  7.2,  7.5, 10.4,\n",
            "        8.8,  8.4, 16.7, 14.2, 20.8, 13.4, 11.7,  8.3, 10.2, 10.9, 11. ,\n",
            "        9.5, 14.5, 14.1, 16.1, 14.3, 11.7, 13.4,  9.6,  8.7,  8.4, 12.8,\n",
            "       10.5, 17.1, 18.4, 15.4, 10.8, 11.8, 14.9, 12.6, 14.1, 13. , 13.4,\n",
            "       15.2, 16.1, 17.8, 14.9, 14.1, 12.7, 13.5, 14.9, 20. , 16.4, 17.7,\n",
            "       19.5, 20.2, 21.4, 19.9, 19. , 19.1, 19.1, 20.1, 19.9, 19.6, 23.2,\n",
            "       29.8, 13.8, 13.3, 16.7, 12. , 14.6, 21.4, 23. , 23.7, 25. , 21.8,\n",
            "       20.6, 21.2, 19.1, 20.6, 15.2,  7. ,  8.1, 13.6, 20.1, 21.8, 24.5,\n",
            "       23.1, 19.7, 18.3, 21.2, 17.5, 16.8, 22.4, 20.6, 23.9, 22. , 11.9]), 'feature_names': array(['CRIM', 'ZN', 'INDUS', 'CHAS', 'NOX', 'RM', 'AGE', 'DIS', 'RAD',\n",
            "       'TAX', 'PTRATIO', 'B', 'LSTAT'], dtype='<U7'), 'DESCR': \".. _boston_dataset:\\n\\nBoston house prices dataset\\n---------------------------\\n\\n**Data Set Characteristics:**  \\n\\n    :Number of Instances: 506 \\n\\n    :Number of Attributes: 13 numeric/categorical predictive. Median Value (attribute 14) is usually the target.\\n\\n    :Attribute Information (in order):\\n        - CRIM     per capita crime rate by town\\n        - ZN       proportion of residential land zoned for lots over 25,000 sq.ft.\\n        - INDUS    proportion of non-retail business acres per town\\n        - CHAS     Charles River dummy variable (= 1 if tract bounds river; 0 otherwise)\\n        - NOX      nitric oxides concentration (parts per 10 million)\\n        - RM       average number of rooms per dwelling\\n        - AGE      proportion of owner-occupied units built prior to 1940\\n        - DIS      weighted distances to five Boston employment centres\\n        - RAD      index of accessibility to radial highways\\n        - TAX      full-value property-tax rate per $10,000\\n        - PTRATIO  pupil-teacher ratio by town\\n        - B        1000(Bk - 0.63)^2 where Bk is the proportion of blacks by town\\n        - LSTAT    % lower status of the population\\n        - MEDV     Median value of owner-occupied homes in $1000's\\n\\n    :Missing Attribute Values: None\\n\\n    :Creator: Harrison, D. and Rubinfeld, D.L.\\n\\nThis is a copy of UCI ML housing dataset.\\nhttps://archive.ics.uci.edu/ml/machine-learning-databases/housing/\\n\\n\\nThis dataset was taken from the StatLib library which is maintained at Carnegie Mellon University.\\n\\nThe Boston house-price data of Harrison, D. and Rubinfeld, D.L. 'Hedonic\\nprices and the demand for clean air', J. Environ. Economics & Management,\\nvol.5, 81-102, 1978.   Used in Belsley, Kuh & Welsch, 'Regression diagnostics\\n...', Wiley, 1980.   N.B. Various transformations are used in the table on\\npages 244-261 of the latter.\\n\\nThe Boston house-price data has been used in many machine learning papers that address regression\\nproblems.   \\n     \\n.. topic:: References\\n\\n   - Belsley, Kuh & Welsch, 'Regression diagnostics: Identifying Influential Data and Sources of Collinearity', Wiley, 1980. 244-261.\\n   - Quinlan,R. (1993). Combining Instance-Based and Model-Based Learning. In Proceedings on the Tenth International Conference of Machine Learning, 236-243, University of Massachusetts, Amherst. Morgan Kaufmann.\\n\", 'filename': '/usr/local/lib/python3.6/dist-packages/sklearn/datasets/data/boston_house_prices.csv'}\n"
          ],
          "name": "stdout"
        }
      ]
    },
    {
      "cell_type": "code",
      "metadata": {
        "id": "HkwSY2vHv0E_",
        "colab_type": "code",
        "colab": {}
      },
      "source": [
        "#Transform the data set into a data frame \n",
        "#NOTE: boston.data = the data we want, \n",
        "#      boston.feature_names = the column names of the data\n",
        "#      boston.target = Our target variable or the price of the houses\n",
        "df_x = pd.DataFrame(boston.data, columns = boston.feature_names)\n",
        "df_y = pd.DataFrame(boston.target)\n"
      ],
      "execution_count": 0,
      "outputs": []
    },
    {
      "cell_type": "code",
      "metadata": {
        "id": "55yPVpfeweVT",
        "colab_type": "code",
        "outputId": "4e207efd-26cc-431f-c071-f00d37596dc3",
        "colab": {
          "base_uri": "https://localhost:8080/",
          "height": 297
        }
      },
      "source": [
        "#Get some statistics from our data set, count, mean standard deviation etc.\n",
        "df_x.describe()"
      ],
      "execution_count": 17,
      "outputs": [
        {
          "output_type": "execute_result",
          "data": {
            "text/html": [
              "<div>\n",
              "<style scoped>\n",
              "    .dataframe tbody tr th:only-of-type {\n",
              "        vertical-align: middle;\n",
              "    }\n",
              "\n",
              "    .dataframe tbody tr th {\n",
              "        vertical-align: top;\n",
              "    }\n",
              "\n",
              "    .dataframe thead th {\n",
              "        text-align: right;\n",
              "    }\n",
              "</style>\n",
              "<table border=\"1\" class=\"dataframe\">\n",
              "  <thead>\n",
              "    <tr style=\"text-align: right;\">\n",
              "      <th></th>\n",
              "      <th>CRIM</th>\n",
              "      <th>ZN</th>\n",
              "      <th>INDUS</th>\n",
              "      <th>CHAS</th>\n",
              "      <th>NOX</th>\n",
              "      <th>RM</th>\n",
              "      <th>AGE</th>\n",
              "      <th>DIS</th>\n",
              "      <th>RAD</th>\n",
              "      <th>TAX</th>\n",
              "      <th>PTRATIO</th>\n",
              "      <th>B</th>\n",
              "      <th>LSTAT</th>\n",
              "    </tr>\n",
              "  </thead>\n",
              "  <tbody>\n",
              "    <tr>\n",
              "      <th>count</th>\n",
              "      <td>506.000000</td>\n",
              "      <td>506.000000</td>\n",
              "      <td>506.000000</td>\n",
              "      <td>506.000000</td>\n",
              "      <td>506.000000</td>\n",
              "      <td>506.000000</td>\n",
              "      <td>506.000000</td>\n",
              "      <td>506.000000</td>\n",
              "      <td>506.000000</td>\n",
              "      <td>506.000000</td>\n",
              "      <td>506.000000</td>\n",
              "      <td>506.000000</td>\n",
              "      <td>506.000000</td>\n",
              "    </tr>\n",
              "    <tr>\n",
              "      <th>mean</th>\n",
              "      <td>3.613524</td>\n",
              "      <td>11.363636</td>\n",
              "      <td>11.136779</td>\n",
              "      <td>0.069170</td>\n",
              "      <td>0.554695</td>\n",
              "      <td>6.284634</td>\n",
              "      <td>68.574901</td>\n",
              "      <td>3.795043</td>\n",
              "      <td>9.549407</td>\n",
              "      <td>408.237154</td>\n",
              "      <td>18.455534</td>\n",
              "      <td>356.674032</td>\n",
              "      <td>12.653063</td>\n",
              "    </tr>\n",
              "    <tr>\n",
              "      <th>std</th>\n",
              "      <td>8.601545</td>\n",
              "      <td>23.322453</td>\n",
              "      <td>6.860353</td>\n",
              "      <td>0.253994</td>\n",
              "      <td>0.115878</td>\n",
              "      <td>0.702617</td>\n",
              "      <td>28.148861</td>\n",
              "      <td>2.105710</td>\n",
              "      <td>8.707259</td>\n",
              "      <td>168.537116</td>\n",
              "      <td>2.164946</td>\n",
              "      <td>91.294864</td>\n",
              "      <td>7.141062</td>\n",
              "    </tr>\n",
              "    <tr>\n",
              "      <th>min</th>\n",
              "      <td>0.006320</td>\n",
              "      <td>0.000000</td>\n",
              "      <td>0.460000</td>\n",
              "      <td>0.000000</td>\n",
              "      <td>0.385000</td>\n",
              "      <td>3.561000</td>\n",
              "      <td>2.900000</td>\n",
              "      <td>1.129600</td>\n",
              "      <td>1.000000</td>\n",
              "      <td>187.000000</td>\n",
              "      <td>12.600000</td>\n",
              "      <td>0.320000</td>\n",
              "      <td>1.730000</td>\n",
              "    </tr>\n",
              "    <tr>\n",
              "      <th>25%</th>\n",
              "      <td>0.082045</td>\n",
              "      <td>0.000000</td>\n",
              "      <td>5.190000</td>\n",
              "      <td>0.000000</td>\n",
              "      <td>0.449000</td>\n",
              "      <td>5.885500</td>\n",
              "      <td>45.025000</td>\n",
              "      <td>2.100175</td>\n",
              "      <td>4.000000</td>\n",
              "      <td>279.000000</td>\n",
              "      <td>17.400000</td>\n",
              "      <td>375.377500</td>\n",
              "      <td>6.950000</td>\n",
              "    </tr>\n",
              "    <tr>\n",
              "      <th>50%</th>\n",
              "      <td>0.256510</td>\n",
              "      <td>0.000000</td>\n",
              "      <td>9.690000</td>\n",
              "      <td>0.000000</td>\n",
              "      <td>0.538000</td>\n",
              "      <td>6.208500</td>\n",
              "      <td>77.500000</td>\n",
              "      <td>3.207450</td>\n",
              "      <td>5.000000</td>\n",
              "      <td>330.000000</td>\n",
              "      <td>19.050000</td>\n",
              "      <td>391.440000</td>\n",
              "      <td>11.360000</td>\n",
              "    </tr>\n",
              "    <tr>\n",
              "      <th>75%</th>\n",
              "      <td>3.677083</td>\n",
              "      <td>12.500000</td>\n",
              "      <td>18.100000</td>\n",
              "      <td>0.000000</td>\n",
              "      <td>0.624000</td>\n",
              "      <td>6.623500</td>\n",
              "      <td>94.075000</td>\n",
              "      <td>5.188425</td>\n",
              "      <td>24.000000</td>\n",
              "      <td>666.000000</td>\n",
              "      <td>20.200000</td>\n",
              "      <td>396.225000</td>\n",
              "      <td>16.955000</td>\n",
              "    </tr>\n",
              "    <tr>\n",
              "      <th>max</th>\n",
              "      <td>88.976200</td>\n",
              "      <td>100.000000</td>\n",
              "      <td>27.740000</td>\n",
              "      <td>1.000000</td>\n",
              "      <td>0.871000</td>\n",
              "      <td>8.780000</td>\n",
              "      <td>100.000000</td>\n",
              "      <td>12.126500</td>\n",
              "      <td>24.000000</td>\n",
              "      <td>711.000000</td>\n",
              "      <td>22.000000</td>\n",
              "      <td>396.900000</td>\n",
              "      <td>37.970000</td>\n",
              "    </tr>\n",
              "  </tbody>\n",
              "</table>\n",
              "</div>"
            ],
            "text/plain": [
              "             CRIM          ZN       INDUS  ...     PTRATIO           B       LSTAT\n",
              "count  506.000000  506.000000  506.000000  ...  506.000000  506.000000  506.000000\n",
              "mean     3.613524   11.363636   11.136779  ...   18.455534  356.674032   12.653063\n",
              "std      8.601545   23.322453    6.860353  ...    2.164946   91.294864    7.141062\n",
              "min      0.006320    0.000000    0.460000  ...   12.600000    0.320000    1.730000\n",
              "25%      0.082045    0.000000    5.190000  ...   17.400000  375.377500    6.950000\n",
              "50%      0.256510    0.000000    9.690000  ...   19.050000  391.440000   11.360000\n",
              "75%      3.677083   12.500000   18.100000  ...   20.200000  396.225000   16.955000\n",
              "max     88.976200  100.000000   27.740000  ...   22.000000  396.900000   37.970000\n",
              "\n",
              "[8 rows x 13 columns]"
            ]
          },
          "metadata": {
            "tags": []
          },
          "execution_count": 17
        }
      ]
    },
    {
      "cell_type": "code",
      "metadata": {
        "id": "HrZKX4J_wtgg",
        "colab_type": "code",
        "colab": {}
      },
      "source": [
        "#Initialize the linear regression model\n",
        "reg = linear_model.LinearRegression()"
      ],
      "execution_count": 0,
      "outputs": []
    },
    {
      "cell_type": "code",
      "metadata": {
        "id": "xWqM85e6w7G_",
        "colab_type": "code",
        "colab": {}
      },
      "source": [
        "#Split the data into 67% training and 33% testing data\n",
        "#NOTE: We have to split the dependent variables (x) and the target or independent variable (y)\n",
        "x_train, x_test, y_train, y_test = train_test_split(df_x, df_y, test_size=0.33, random_state=42)"
      ],
      "execution_count": 0,
      "outputs": []
    },
    {
      "cell_type": "code",
      "metadata": {
        "id": "36zhLfzKxthN",
        "colab_type": "code",
        "outputId": "7e0c8435-e5e2-42c2-f2d2-8d0845914ab6",
        "colab": {
          "base_uri": "https://localhost:8080/",
          "height": 34
        }
      },
      "source": [
        "#Train our model with the training data\n",
        "reg.fit(x_train, y_train)"
      ],
      "execution_count": 20,
      "outputs": [
        {
          "output_type": "execute_result",
          "data": {
            "text/plain": [
              "LinearRegression(copy_X=True, fit_intercept=True, n_jobs=None, normalize=False)"
            ]
          },
          "metadata": {
            "tags": []
          },
          "execution_count": 20
        }
      ]
    },
    {
      "cell_type": "code",
      "metadata": {
        "id": "CtTSfR3H11gA",
        "colab_type": "code",
        "outputId": "da0f2219-88eb-4afb-f229-25910689a373",
        "colab": {
          "base_uri": "https://localhost:8080/",
          "height": 238
        }
      },
      "source": [
        "df_x_n=np.c_[np.ones((339,1)),x_train]\n",
        "df_x_n"
      ],
      "execution_count": 21,
      "outputs": [
        {
          "output_type": "execute_result",
          "data": {
            "text/plain": [
              "array([[1.00000e+00, 1.02330e+01, 0.00000e+00, ..., 2.02000e+01,\n",
              "        3.79700e+02, 1.80300e+01],\n",
              "       [1.00000e+00, 6.71910e-01, 0.00000e+00, ..., 2.10000e+01,\n",
              "        3.76880e+02, 1.48100e+01],\n",
              "       [1.00000e+00, 1.44550e-01, 1.25000e+01, ..., 1.52000e+01,\n",
              "        3.96900e+02, 1.91500e+01],\n",
              "       ...,\n",
              "       [1.00000e+00, 1.50100e-02, 8.00000e+01, ..., 1.70000e+01,\n",
              "        3.90940e+02, 5.99000e+00],\n",
              "       [1.00000e+00, 1.11604e+01, 0.00000e+00, ..., 2.02000e+01,\n",
              "        1.09850e+02, 2.32700e+01],\n",
              "       [1.00000e+00, 2.28760e-01, 0.00000e+00, ..., 2.09000e+01,\n",
              "        7.08000e+01, 1.06300e+01]])"
            ]
          },
          "metadata": {
            "tags": []
          },
          "execution_count": 21
        }
      ]
    },
    {
      "cell_type": "code",
      "metadata": {
        "id": "2Xe_WWLD3cnP",
        "colab_type": "code",
        "outputId": "933a7012-4837-4a48-83cd-5884b6beeca3",
        "colab": {
          "base_uri": "https://localhost:8080/",
          "height": 255
        }
      },
      "source": [
        "coff=np.linalg.inv(df_x_n.T.dot(df_x_n)).dot(df_x_n.T).dot(y_train)\n",
        "coff"
      ],
      "execution_count": 22,
      "outputs": [
        {
          "output_type": "execute_result",
          "data": {
            "text/plain": [
              "array([[ 3.33349758e+01],\n",
              "       [-1.28749718e-01],\n",
              "       [ 3.78232228e-02],\n",
              "       [ 5.82109233e-02],\n",
              "       [ 3.23866812e+00],\n",
              "       [-1.61698120e+01],\n",
              "       [ 3.90205116e+00],\n",
              "       [-1.28507825e-02],\n",
              "       [-1.42222430e+00],\n",
              "       [ 2.34853915e-01],\n",
              "       [-8.21331947e-03],\n",
              "       [-9.28722459e-01],\n",
              "       [ 1.17695921e-02],\n",
              "       [-5.47566338e-01]])"
            ]
          },
          "metadata": {
            "tags": []
          },
          "execution_count": 22
        }
      ]
    },
    {
      "cell_type": "code",
      "metadata": {
        "id": "OMLgBiFmBUw1",
        "colab_type": "code",
        "outputId": "5e0e1785-b168-42ce-fd3e-0776b60f87cb",
        "colab": {
          "base_uri": "https://localhost:8080/",
          "height": 1000
        }
      },
      "source": [
        "y_predict=np.dot(x_test,coff[1:14])+(3.33349758e+01)\n",
        "y_predict"
      ],
      "execution_count": 23,
      "outputs": [
        {
          "output_type": "execute_result",
          "data": {
            "text/plain": [
              "array([[28.53469473],\n",
              "       [36.61870064],\n",
              "       [15.63751083],\n",
              "       [25.50144964],\n",
              "       [18.70967345],\n",
              "       [23.16471596],\n",
              "       [17.31011039],\n",
              "       [14.07736372],\n",
              "       [23.01064393],\n",
              "       [20.54223486],\n",
              "       [24.91632355],\n",
              "       [18.41098057],\n",
              "       [-6.52079683],\n",
              "       [21.83372609],\n",
              "       [19.14903069],\n",
              "       [26.05873225],\n",
              "       [20.3023263 ],\n",
              "       [ 5.74943571],\n",
              "       [40.33137816],\n",
              "       [17.4579145 ],\n",
              "       [27.47486669],\n",
              "       [30.21707575],\n",
              "       [10.80555629],\n",
              "       [23.87721733],\n",
              "       [17.99492215],\n",
              "       [16.02608795],\n",
              "       [23.26828805],\n",
              "       [14.36825211],\n",
              "       [22.38116976],\n",
              "       [19.30920685],\n",
              "       [22.1728458 ],\n",
              "       [25.05925446],\n",
              "       [25.1378073 ],\n",
              "       [18.46730203],\n",
              "       [16.60405716],\n",
              "       [17.46564051],\n",
              "       [30.71367738],\n",
              "       [20.05106792],\n",
              "       [23.98977685],\n",
              "       [24.94322412],\n",
              "       [13.9794536 ],\n",
              "       [31.64706971],\n",
              "       [42.48057211],\n",
              "       [17.70042818],\n",
              "       [26.92507873],\n",
              "       [17.15897723],\n",
              "       [13.68918092],\n",
              "       [26.14924249],\n",
              "       [20.27823065],\n",
              "       [29.99003496],\n",
              "       [21.21260352],\n",
              "       [34.03649189],\n",
              "       [15.41837557],\n",
              "       [25.95781066],\n",
              "       [39.13897278],\n",
              "       [22.96118429],\n",
              "       [18.80310562],\n",
              "       [33.07865366],\n",
              "       [24.7438416 ],\n",
              "       [12.83640962],\n",
              "       [22.41963402],\n",
              "       [30.64804983],\n",
              "       [31.59567116],\n",
              "       [16.34088201],\n",
              "       [20.95043044],\n",
              "       [16.70145879],\n",
              "       [20.23215651],\n",
              "       [26.14378655],\n",
              "       [31.12160894],\n",
              "       [11.89762772],\n",
              "       [20.45432409],\n",
              "       [27.48356364],\n",
              "       [10.89034229],\n",
              "       [16.77707218],\n",
              "       [24.02593719],\n",
              "       [ 5.44691812],\n",
              "       [21.35152335],\n",
              "       [41.27267179],\n",
              "       [18.13447651],\n",
              "       [ 9.80121014],\n",
              "       [21.24024347],\n",
              "       [13.02644974],\n",
              "       [21.80198378],\n",
              "       [ 9.48201756],\n",
              "       [22.99183862],\n",
              "       [31.90465636],\n",
              "       [18.95594722],\n",
              "       [25.48515037],\n",
              "       [29.49687024],\n",
              "       [20.07282544],\n",
              "       [25.56160624],\n",
              "       [ 5.59584387],\n",
              "       [20.18410908],\n",
              "       [15.08773304],\n",
              "       [14.34562121],\n",
              "       [20.85155412],\n",
              "       [24.80149393],\n",
              "       [-0.19785397],\n",
              "       [13.57649009],\n",
              "       [15.64401684],\n",
              "       [22.03765778],\n",
              "       [24.70314487],\n",
              "       [10.86409116],\n",
              "       [19.60231071],\n",
              "       [23.73429165],\n",
              "       [12.08082181],\n",
              "       [18.40997908],\n",
              "       [25.43661585],\n",
              "       [20.76506641],\n",
              "       [24.68588242],\n",
              "       [ 7.49958365],\n",
              "       [18.93015669],\n",
              "       [21.70801769],\n",
              "       [27.14350583],\n",
              "       [31.93765212],\n",
              "       [15.19483591],\n",
              "       [34.01357433],\n",
              "       [12.85763096],\n",
              "       [21.06646189],\n",
              "       [28.58470047],\n",
              "       [15.77437538],\n",
              "       [24.775125  ],\n",
              "       [ 3.64655693],\n",
              "       [23.91169593],\n",
              "       [25.82292929],\n",
              "       [23.03339681],\n",
              "       [25.3515834 ],\n",
              "       [33.05655452],\n",
              "       [20.65930471],\n",
              "       [38.18917366],\n",
              "       [14.04714301],\n",
              "       [25.26034474],\n",
              "       [17.61387234],\n",
              "       [20.60883771],\n",
              "       [ 9.85255445],\n",
              "       [21.06756955],\n",
              "       [22.20145591],\n",
              "       [32.29202765],\n",
              "       [31.57638347],\n",
              "       [15.29265942],\n",
              "       [16.71002354],\n",
              "       [29.10550937],\n",
              "       [25.17762333],\n",
              "       [16.88159229],\n",
              "       [ 6.32621881],\n",
              "       [26.70210267],\n",
              "       [23.35258515],\n",
              "       [17.24168186],\n",
              "       [13.228157  ],\n",
              "       [39.49907512],\n",
              "       [16.5352858 ],\n",
              "       [18.14635906],\n",
              "       [25.06620431],\n",
              "       [23.70640236],\n",
              "       [22.20167777],\n",
              "       [21.22272332],\n",
              "       [16.89825925],\n",
              "       [23.15518278],\n",
              "       [28.69699809],\n",
              "       [ 6.65526486],\n",
              "       [23.98399963],\n",
              "       [17.21004549],\n",
              "       [21.05744274],\n",
              "       [25.01734602],\n",
              "       [27.65461863],\n",
              "       [20.70205828],\n",
              "       [40.38214875]])"
            ]
          },
          "metadata": {
            "tags": []
          },
          "execution_count": 23
        }
      ]
    },
    {
      "cell_type": "code",
      "metadata": {
        "id": "MA-oMX41y7sB",
        "colab_type": "code",
        "outputId": "b7355241-6ae8-44d8-ced1-560098202c24",
        "colab": {
          "base_uri": "https://localhost:8080/",
          "height": 51
        }
      },
      "source": [
        "# Two different ways to check model performance/accuracy using,\n",
        "# mean squared error which tells you how close a regression line is to a set of points.\n",
        "\n",
        "# 1. Mean squared error by numpy\n",
        "print(np.mean((y_predict-y_test)**2))"
      ],
      "execution_count": 24,
      "outputs": [
        {
          "output_type": "stream",
          "text": [
            "0    20.724023\n",
            "dtype: float64\n"
          ],
          "name": "stdout"
        }
      ]
    }
  ]
}