{
  "nbformat": 4,
  "nbformat_minor": 0,
  "metadata": {
    "colab": {
      "name": "Copy of CNNMNIST_Digit.ipynb",
      "provenance": [],
      "include_colab_link": true
    },
    "kernelspec": {
      "name": "python3",
      "display_name": "Python 3"
    },
    "accelerator": "GPU"
  },
  "cells": [
    {
      "cell_type": "markdown",
      "metadata": {
        "id": "view-in-github",
        "colab_type": "text"
      },
      "source": [
        "<a href=\"https://colab.research.google.com/github/AjinJayan/AJ/blob/master/Copy_of_CNNMNIST_Digit_final.ipynb\" target=\"_parent\"><img src=\"https://colab.research.google.com/assets/colab-badge.svg\" alt=\"Open In Colab\"/></a>"
      ]
    },
    {
      "cell_type": "code",
      "metadata": {
        "id": "jEm-PHZH2usk",
        "colab_type": "code",
        "colab": {}
      },
      "source": [
        "%tensorflow_version 2.x\n",
        "import tensorflow as tf\n",
        "import matplotlib.pyplot as plt\n",
        "import numpy as np\n",
        "from tensorflow.keras.layers import Input,Conv2D,Dense,Flatten,Dropout,MaxPool2D\n",
        "from tensorflow.keras.models import Model\n",
        "import time as t"
      ],
      "execution_count": 0,
      "outputs": []
    },
    {
      "cell_type": "code",
      "metadata": {
        "id": "26bCs_hO28Oj",
        "colab_type": "code",
        "outputId": "d6c56338-2c00-4423-c342-668906134e1b",
        "colab": {
          "base_uri": "https://localhost:8080/",
          "height": 34
        }
      },
      "source": [
        "mnist=tf.keras.datasets.mnist\n",
        "(x_train,y_train),(x_test,y_test)=mnist.load_data()\n",
        "x_train,x_test=x_train/255.0,x_test/255.0\n",
        "print(\"x_train.shape\",x_train.shape)"
      ],
      "execution_count": 32,
      "outputs": [
        {
          "output_type": "stream",
          "text": [
            "x_train.shape (60000, 28, 28)\n"
          ],
          "name": "stdout"
        }
      ]
    },
    {
      "cell_type": "code",
      "metadata": {
        "id": "gpA1YgXM3-do",
        "colab_type": "code",
        "outputId": "94b359dc-b26a-440b-8ad9-59f4016eaf23",
        "colab": {
          "base_uri": "https://localhost:8080/",
          "height": 34
        }
      },
      "source": [
        "x_train=np.expand_dims(x_train,-1)\n",
        "x_test = np.expand_dims(x_test,-1)\n",
        "print(x_train.shape)"
      ],
      "execution_count": 33,
      "outputs": [
        {
          "output_type": "stream",
          "text": [
            "(60000, 28, 28, 1)\n"
          ],
          "name": "stdout"
        }
      ]
    },
    {
      "cell_type": "code",
      "metadata": {
        "id": "GXvByBrZ6Giq",
        "colab_type": "code",
        "outputId": "277e259f-0986-41a0-9574-1a2a6e3cdae0",
        "colab": {
          "base_uri": "https://localhost:8080/",
          "height": 34
        }
      },
      "source": [
        "K=len(set(y_train))\n",
        "print(\"Number of classes:\",K)"
      ],
      "execution_count": 34,
      "outputs": [
        {
          "output_type": "stream",
          "text": [
            "Number of classes: 10\n"
          ],
          "name": "stdout"
        }
      ]
    },
    {
      "cell_type": "code",
      "metadata": {
        "id": "zBRskRS_8AJS",
        "colab_type": "code",
        "colab": {}
      },
      "source": [
        "i=Input(shape=x_train[0].shape)\n",
        "x=Conv2D(32,(3,3),strides=2,activation='relu')(i)\n",
        "x=Conv2D(64,(3,3),strides=2,activation='relu')(x)\n",
        "x=MaxPool2D(pool_size=(2,2),strides=2,padding='valid')(x)\n",
        "x=Dropout(0.25)(x)\n",
        "x=Flatten()(x)\n",
        "x=Dense(128,activation='relu')(x)\n",
        "x=Dropout(0.5)(x)\n",
        "x=Dense(K,activation='softmax')(x)\n",
        "\n",
        "model=Model(i,x)"
      ],
      "execution_count": 0,
      "outputs": []
    },
    {
      "cell_type": "code",
      "metadata": {
        "id": "VwGpZ7nOPDd1",
        "colab_type": "code",
        "outputId": "2ffb67a1-173d-4d40-a8c8-9abc06a542b8",
        "colab": {
          "base_uri": "https://localhost:8080/",
          "height": 478
        }
      },
      "source": [
        "model.summary()"
      ],
      "execution_count": 36,
      "outputs": [
        {
          "output_type": "stream",
          "text": [
            "Model: \"model_3\"\n",
            "_________________________________________________________________\n",
            "Layer (type)                 Output Shape              Param #   \n",
            "=================================================================\n",
            "input_4 (InputLayer)         [(None, 28, 28, 1)]       0         \n",
            "_________________________________________________________________\n",
            "conv2d_6 (Conv2D)            (None, 13, 13, 32)        320       \n",
            "_________________________________________________________________\n",
            "conv2d_7 (Conv2D)            (None, 6, 6, 64)          18496     \n",
            "_________________________________________________________________\n",
            "max_pooling2d_3 (MaxPooling2 (None, 3, 3, 64)          0         \n",
            "_________________________________________________________________\n",
            "dropout_6 (Dropout)          (None, 3, 3, 64)          0         \n",
            "_________________________________________________________________\n",
            "flatten_3 (Flatten)          (None, 576)               0         \n",
            "_________________________________________________________________\n",
            "dense_6 (Dense)              (None, 128)               73856     \n",
            "_________________________________________________________________\n",
            "dropout_7 (Dropout)          (None, 128)               0         \n",
            "_________________________________________________________________\n",
            "dense_7 (Dense)              (None, 10)                1290      \n",
            "=================================================================\n",
            "Total params: 93,962\n",
            "Trainable params: 93,962\n",
            "Non-trainable params: 0\n",
            "_________________________________________________________________\n"
          ],
          "name": "stdout"
        }
      ]
    },
    {
      "cell_type": "code",
      "metadata": {
        "id": "plVUJF_388-B",
        "colab_type": "code",
        "outputId": "afdd03b9-b67c-4258-ba89-acd4ee6745b5",
        "colab": {
          "base_uri": "https://localhost:8080/",
          "height": 407
        }
      },
      "source": [
        "model.compile(optimizer='adam',\n",
        "              loss='sparse_categorical_crossentropy',\n",
        "              metrics=['accuracy'])\n",
        "A1=t.time()\n",
        "r=model.fit(x_train,y_train,validation_split=0.20,epochs=10)\n",
        "A2=t.time()\n",
        "print(A2-A1)"
      ],
      "execution_count": 37,
      "outputs": [
        {
          "output_type": "stream",
          "text": [
            "Train on 48000 samples, validate on 12000 samples\n",
            "Epoch 1/10\n",
            "48000/48000 [==============================] - 5s 109us/sample - loss: 0.4026 - accuracy: 0.8707 - val_loss: 0.1003 - val_accuracy: 0.9677\n",
            "Epoch 2/10\n",
            "48000/48000 [==============================] - 5s 101us/sample - loss: 0.1714 - accuracy: 0.9474 - val_loss: 0.0718 - val_accuracy: 0.9774\n",
            "Epoch 3/10\n",
            "48000/48000 [==============================] - 5s 101us/sample - loss: 0.1373 - accuracy: 0.9585 - val_loss: 0.0633 - val_accuracy: 0.9805\n",
            "Epoch 4/10\n",
            "48000/48000 [==============================] - 5s 101us/sample - loss: 0.1139 - accuracy: 0.9638 - val_loss: 0.0538 - val_accuracy: 0.9843\n",
            "Epoch 5/10\n",
            "48000/48000 [==============================] - 5s 104us/sample - loss: 0.1008 - accuracy: 0.9678 - val_loss: 0.0508 - val_accuracy: 0.9847\n",
            "Epoch 6/10\n",
            "48000/48000 [==============================] - 5s 103us/sample - loss: 0.0935 - accuracy: 0.9712 - val_loss: 0.0499 - val_accuracy: 0.9849\n",
            "Epoch 7/10\n",
            "48000/48000 [==============================] - 5s 103us/sample - loss: 0.0854 - accuracy: 0.9735 - val_loss: 0.0462 - val_accuracy: 0.9847\n",
            "Epoch 8/10\n",
            "48000/48000 [==============================] - 5s 102us/sample - loss: 0.0750 - accuracy: 0.9762 - val_loss: 0.0464 - val_accuracy: 0.9863\n",
            "Epoch 9/10\n",
            "48000/48000 [==============================] - 5s 105us/sample - loss: 0.0709 - accuracy: 0.9776 - val_loss: 0.0447 - val_accuracy: 0.9864\n",
            "Epoch 10/10\n",
            "48000/48000 [==============================] - 5s 107us/sample - loss: 0.0703 - accuracy: 0.9776 - val_loss: 0.0441 - val_accuracy: 0.9869\n",
            "49.82305288314819\n"
          ],
          "name": "stdout"
        }
      ]
    },
    {
      "cell_type": "code",
      "metadata": {
        "id": "s5CvwUoA9iFs",
        "colab_type": "code",
        "outputId": "4976304d-fa7f-4a0c-d9dd-0e3a462e07c2",
        "colab": {
          "base_uri": "https://localhost:8080/",
          "height": 282
        }
      },
      "source": [
        "plt.plot(r.history['loss'],label='loss')\n",
        "plt.plot(r.history['val_loss'],label='val_loss')\n",
        "plt.legend()"
      ],
      "execution_count": 38,
      "outputs": [
        {
          "output_type": "execute_result",
          "data": {
            "text/plain": [
              "<matplotlib.legend.Legend at 0x7f223a54f518>"
            ]
          },
          "metadata": {
            "tags": []
          },
          "execution_count": 38
        },
        {
          "output_type": "display_data",
          "data": {
            "image/png": "[encoded data removed]",
            "text/plain": [
              "<Figure size 432x288 with 1 Axes>"
            ]
          },
          "metadata": {
            "tags": []
          }
        }
      ]
    },
    {
      "cell_type": "code",
      "metadata": {
        "id": "wNyzp_F698cf",
        "colab_type": "code",
        "outputId": "3b9aa1e2-4e08-4433-8318-f026d6e30730",
        "colab": {
          "base_uri": "https://localhost:8080/",
          "height": 282
        }
      },
      "source": [
        "plt.plot(r.history['accuracy'],label='acc')\n",
        "plt.plot(r.history['val_accuracy'],label='val_acc')\n",
        "plt.legend()"
      ],
      "execution_count": 39,
      "outputs": [
        {
          "output_type": "execute_result",
          "data": {
            "text/plain": [
              "<matplotlib.legend.Legend at 0x7f223a539470>"
            ]
          },
          "metadata": {
            "tags": []
          },
          "execution_count": 39
        },
        {
          "output_type": "display_data",
          "data": {
            "image/png": "[encoded data removed]",
            "text/plain": [
              "<Figure size 432x288 with 1 Axes>"
            ]
          },
          "metadata": {
            "tags": []
          }
        }
      ]
    },
    {
      "cell_type": "code",
      "metadata": {
        "id": "UvTwdDQx-Maj",
        "colab_type": "code",
        "outputId": "dde4cf8b-9d99-4568-cee5-70c51c694cc0",
        "colab": {
          "base_uri": "https://localhost:8080/",
          "height": 70
        }
      },
      "source": [
        "A3=t.time()\n",
        "print(model.evaluate(x_test,y_test))\n",
        "A4=t.time()\n",
        "print(A4-A3)"
      ],
      "execution_count": 40,
      "outputs": [
        {
          "output_type": "stream",
          "text": [
            "10000/10000 [==============================] - 1s 76us/sample - loss: 0.0410 - accuracy: 0.9876\n",
            "[0.04101297384723075, 0.9876]\n",
            "0.7872045040130615\n"
          ],
          "name": "stdout"
        }
      ]
    },
    {
      "cell_type": "code",
      "metadata": {
        "id": "-6qaKC8m_liR",
        "colab_type": "code",
        "outputId": "97831e0b-1704-4356-9f62-87ba419f468e",
        "colab": {
          "base_uri": "https://localhost:8080/",
          "height": 34
        }
      },
      "source": [
        "predictions=model.predict([x_test])\n",
        "print(np.argmax(predictions[1000]))"
      ],
      "execution_count": 41,
      "outputs": [
        {
          "output_type": "stream",
          "text": [
            "9\n"
          ],
          "name": "stdout"
        }
      ]
    },
    {
      "cell_type": "code",
      "metadata": {
        "id": "aldZWpOg_tCg",
        "colab_type": "code",
        "colab": {}
      },
      "source": [
        ""
      ],
      "execution_count": 0,
      "outputs": []
    }
  ]
}