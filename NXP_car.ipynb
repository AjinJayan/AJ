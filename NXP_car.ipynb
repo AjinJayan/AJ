{
  "nbformat": 4,
  "nbformat_minor": 0,
  "metadata": {
    "colab": {
      "name": "NXP_car.ipynb",
      "provenance": [],
      "authorship_tag": "ABX9TyMVuLoo/DKslZsTgra59Wj4",
      "include_colab_link": true
    },
    "kernelspec": {
      "name": "python3",
      "display_name": "Python 3"
    },
    "language_info": {
      "name": "python"
    }
  },
  "cells": [
    {
      "cell_type": "markdown",
      "metadata": {
        "id": "view-in-github",
        "colab_type": "text"
      },
      "source": [
        "<a href=\"https://colab.research.google.com/github/AjinJayan/AJ/blob/master/NXP_car.ipynb\" target=\"_parent\"><img src=\"https://colab.research.google.com/assets/colab-badge.svg\" alt=\"Open In Colab\"/></a>"
      ]
    },
    {
      "cell_type": "code",
      "metadata": {
        "colab": {
          "base_uri": "https://localhost:8080/",
          "height": 204
        },
        "id": "GcXvkh6B59Mg",
        "outputId": "d2d03de2-9bb8-407b-d3b4-dcc11df0a4f7"
      },
      "source": [
        "import pandas as pd\n",
        "data =pd.read_csv(\"/content/data.csv\")\n",
        "data.head()\n"
      ],
      "execution_count": 12,
      "outputs": [
        {
          "output_type": "execute_result",
          "data": {
            "text/html": [
              "<div>\n",
              "<style scoped>\n",
              "    .dataframe tbody tr th:only-of-type {\n",
              "        vertical-align: middle;\n",
              "    }\n",
              "\n",
              "    .dataframe tbody tr th {\n",
              "        vertical-align: top;\n",
              "    }\n",
              "\n",
              "    .dataframe thead th {\n",
              "        text-align: right;\n",
              "    }\n",
              "</style>\n",
              "<table border=\"1\" class=\"dataframe\">\n",
              "  <thead>\n",
              "    <tr style=\"text-align: right;\">\n",
              "      <th></th>\n",
              "      <th>speed</th>\n",
              "      <th>steer</th>\n",
              "      <th>m0_x0</th>\n",
              "      <th>m0_y0</th>\n",
              "      <th>m0_x1</th>\n",
              "      <th>m0_y1</th>\n",
              "      <th>m1_x0</th>\n",
              "      <th>m1_y0</th>\n",
              "      <th>m1_x1</th>\n",
              "      <th>m1_y1</th>\n",
              "    </tr>\n",
              "  </thead>\n",
              "  <tbody>\n",
              "    <tr>\n",
              "      <th>0</th>\n",
              "      <td>0.743291</td>\n",
              "      <td>0.035443</td>\n",
              "      <td>4</td>\n",
              "      <td>52</td>\n",
              "      <td>23</td>\n",
              "      <td>0</td>\n",
              "      <td>70</td>\n",
              "      <td>52</td>\n",
              "      <td>49</td>\n",
              "      <td>0</td>\n",
              "    </tr>\n",
              "    <tr>\n",
              "      <th>1</th>\n",
              "      <td>0.743291</td>\n",
              "      <td>0.035443</td>\n",
              "      <td>4</td>\n",
              "      <td>52</td>\n",
              "      <td>23</td>\n",
              "      <td>0</td>\n",
              "      <td>70</td>\n",
              "      <td>52</td>\n",
              "      <td>49</td>\n",
              "      <td>0</td>\n",
              "    </tr>\n",
              "    <tr>\n",
              "      <th>2</th>\n",
              "      <td>0.743291</td>\n",
              "      <td>0.035443</td>\n",
              "      <td>4</td>\n",
              "      <td>52</td>\n",
              "      <td>23</td>\n",
              "      <td>0</td>\n",
              "      <td>70</td>\n",
              "      <td>52</td>\n",
              "      <td>49</td>\n",
              "      <td>0</td>\n",
              "    </tr>\n",
              "    <tr>\n",
              "      <th>3</th>\n",
              "      <td>0.743291</td>\n",
              "      <td>0.035443</td>\n",
              "      <td>4</td>\n",
              "      <td>52</td>\n",
              "      <td>23</td>\n",
              "      <td>0</td>\n",
              "      <td>70</td>\n",
              "      <td>52</td>\n",
              "      <td>49</td>\n",
              "      <td>0</td>\n",
              "    </tr>\n",
              "    <tr>\n",
              "      <th>4</th>\n",
              "      <td>0.743291</td>\n",
              "      <td>0.035443</td>\n",
              "      <td>4</td>\n",
              "      <td>52</td>\n",
              "      <td>23</td>\n",
              "      <td>0</td>\n",
              "      <td>70</td>\n",
              "      <td>52</td>\n",
              "      <td>49</td>\n",
              "      <td>0</td>\n",
              "    </tr>\n",
              "  </tbody>\n",
              "</table>\n",
              "</div>"
            ],
            "text/plain": [
              "      speed     steer  m0_x0  m0_y0  m0_x1  m0_y1  m1_x0  m1_y0  m1_x1  m1_y1\n",
              "0  0.743291  0.035443      4     52     23      0     70     52     49      0\n",
              "1  0.743291  0.035443      4     52     23      0     70     52     49      0\n",
              "2  0.743291  0.035443      4     52     23      0     70     52     49      0\n",
              "3  0.743291  0.035443      4     52     23      0     70     52     49      0\n",
              "4  0.743291  0.035443      4     52     23      0     70     52     49      0"
            ]
          },
          "metadata": {
            "tags": []
          },
          "execution_count": 12
        }
      ]
    },
    {
      "cell_type": "code",
      "metadata": {
        "id": "mQxphzyd8jKA"
      },
      "source": [
        "target=data.drop(['m0_x0','m0_y0','m0_x1','m0_y1','m1_x0','m1_y0','m1_x1','m1_y1'],axis=1)\n",
        "features=data.drop(['speed','steer'],axis=1)"
      ],
      "execution_count": 13,
      "outputs": []
    },
    {
      "cell_type": "code",
      "metadata": {
        "id": "nXxiazyW8oee"
      },
      "source": [
        "X=features.to_numpy()\n",
        "Y=target.to_numpy()"
      ],
      "execution_count": 16,
      "outputs": []
    },
    {
      "cell_type": "code",
      "metadata": {
        "id": "HnD48xP28ZMg"
      },
      "source": [
        "from keras.models import Sequential\n",
        "from keras.layers import Dense\n",
        "from numpy import array\n",
        "from numpy.random import uniform\n",
        "from numpy import hstack\n",
        "import matplotlib.pyplot as plt\n",
        "from sklearn.model_selection import train_test_split\n",
        "from sklearn.metrics import mean_squared_error"
      ],
      "execution_count": 15,
      "outputs": []
    },
    {
      "cell_type": "code",
      "metadata": {
        "id": "4s9VTpvm8W4V"
      },
      "source": [
        "in_dim = X.shape[1]\n",
        "out_dim = Y.shape[1]"
      ],
      "execution_count": 18,
      "outputs": []
    },
    {
      "cell_type": "code",
      "metadata": {
        "id": "VXzMCogj8xyk"
      },
      "source": [
        "xtrain, xtest, ytrain, ytest=train_test_split(X, Y, test_size=0.15)"
      ],
      "execution_count": 19,
      "outputs": []
    },
    {
      "cell_type": "code",
      "metadata": {
        "colab": {
          "base_uri": "https://localhost:8080/"
        },
        "id": "IZSPatyZ9CP_",
        "outputId": "cdb88e00-1dfd-4082-8bd7-5c91d51cc604"
      },
      "source": [
        "model = Sequential()\n",
        "model.add(Dense(64, input_dim=in_dim, activation=\"relu\"))\n",
        "model.add(Dense(64, activation=\"relu\"))\n",
        "model.add(Dense(32, activation=\"relu\"))\n",
        "model.add(Dense(16, activation=\"relu\"))\n",
        "model.add(Dense(out_dim))\n",
        "model.compile(loss=\"mse\", optimizer=\"adam\")\n",
        " \n",
        "model.summary()"
      ],
      "execution_count": 113,
      "outputs": [
        {
          "output_type": "stream",
          "text": [
            "Model: \"sequential_16\"\n",
            "_________________________________________________________________\n",
            "Layer (type)                 Output Shape              Param #   \n",
            "=================================================================\n",
            "dense_72 (Dense)             (None, 64)                576       \n",
            "_________________________________________________________________\n",
            "dense_73 (Dense)             (None, 64)                4160      \n",
            "_________________________________________________________________\n",
            "dense_74 (Dense)             (None, 32)                2080      \n",
            "_________________________________________________________________\n",
            "dense_75 (Dense)             (None, 16)                528       \n",
            "_________________________________________________________________\n",
            "dense_76 (Dense)             (None, 2)                 34        \n",
            "=================================================================\n",
            "Total params: 7,378\n",
            "Trainable params: 7,378\n",
            "Non-trainable params: 0\n",
            "_________________________________________________________________\n"
          ],
          "name": "stdout"
        }
      ]
    },
    {
      "cell_type": "code",
      "metadata": {
        "colab": {
          "base_uri": "https://localhost:8080/"
        },
        "id": "OvDO-f1o9cEz",
        "outputId": "b5e251df-de5e-4249-ab44-ffd3507b1923"
      },
      "source": [
        "model.fit(xtrain, ytrain, epochs=100, batch_size=12, verbose=0)"
      ],
      "execution_count": 114,
      "outputs": [
        {
          "output_type": "execute_result",
          "data": {
            "text/plain": [
              "<tensorflow.python.keras.callbacks.History at 0x7fc81f466b90>"
            ]
          },
          "metadata": {
            "tags": []
          },
          "execution_count": 114
        }
      ]
    },
    {
      "cell_type": "code",
      "metadata": {
        "colab": {
          "base_uri": "https://localhost:8080/"
        },
        "id": "CE9yZ_jA9jBQ",
        "outputId": "ae6fc1b9-fa7d-4629-91ac-58942955c888"
      },
      "source": [
        "ypred = model.predict(xtest)\n",
        "print(\"y1 MSE:%.7f\" % mean_squared_error(ytest[:,0], ypred[:,0])) \n",
        "print(\"y2 MSE:%.7f\" % mean_squared_error(ytest[:,1], ypred[:,1]))"
      ],
      "execution_count": 115,
      "outputs": [
        {
          "output_type": "stream",
          "text": [
            "y1 MSE:0.0001461\n",
            "y2 MSE:0.0000494\n"
          ],
          "name": "stdout"
        }
      ]
    },
    {
      "cell_type": "code",
      "metadata": {
        "id": "BGMgR2eM97bS"
      },
      "source": [
        "from numpy import asarray"
      ],
      "execution_count": 41,
      "outputs": []
    },
    {
      "cell_type": "code",
      "metadata": {
        "colab": {
          "base_uri": "https://localhost:8080/"
        },
        "id": "OCbDX-MF9rQA",
        "outputId": "1345310d-59de-4e13-a383-781c2781c9c8"
      },
      "source": [
        "row = [4,52,23,0,70,52,49,0]\n",
        "newX = asarray([row])\n",
        "yhat = model.predict(newX)\n",
        "print('Predicted: %s' % yhat[0])"
      ],
      "execution_count": 116,
      "outputs": [
        {
          "output_type": "stream",
          "text": [
            "Predicted: [0.7503567  0.03833758]\n"
          ],
          "name": "stdout"
        }
      ]
    },
    {
      "cell_type": "code",
      "metadata": {
        "colab": {
          "base_uri": "https://localhost:8080/"
        },
        "id": "sYopYOza951g",
        "outputId": "822f90a6-6701-4d41-9957-fc6a3bf31d05"
      },
      "source": [
        "row = [14,52,25,0,72,36,51,0]\n",
        "newX = asarray([row])\n",
        "yhat = model.predict(newX)\n",
        "print('Predicted: %s' % yhat[0])"
      ],
      "execution_count": 117,
      "outputs": [
        {
          "output_type": "stream",
          "text": [
            "Predicted: [0.7884265  0.01847727]\n"
          ],
          "name": "stdout"
        }
      ]
    },
    {
      "cell_type": "code",
      "metadata": {
        "id": "iMl9fO__GPZS"
      },
      "source": [
        ""
      ],
      "execution_count": null,
      "outputs": []
    }
  ]
}