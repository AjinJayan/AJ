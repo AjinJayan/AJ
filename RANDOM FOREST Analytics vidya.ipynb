{
  "nbformat": 4,
  "nbformat_minor": 0,
  "metadata": {
    "colab": {
      "name": "Untitled44.ipynb",
      "provenance": [],
      "authorship_tag": "ABX9TyM8ZTZg0jE3wxO8oDvTZ9h0",
      "include_colab_link": true
    },
    "kernelspec": {
      "name": "python3",
      "display_name": "Python 3"
    }
  },
  "cells": [
    {
      "cell_type": "markdown",
      "metadata": {
        "id": "view-in-github",
        "colab_type": "text"
      },
      "source": [
        "<a href=\"https://colab.research.google.com/github/AjinJayan/AJ/blob/master/RANDOM%20FOREST%20Analytics%20vidya.ipynb\" target=\"_parent\"><img src=\"https://colab.research.google.com/assets/colab-badge.svg\" alt=\"Open In Colab\"/></a>"
      ]
    },
    {
      "cell_type": "code",
      "metadata": {
        "id": "5bjut4ZQyug2",
        "colab_type": "code",
        "colab": {}
      },
      "source": [
        "import pandas as pd\n",
        "data=pd.read_csv('train.csv')"
      ],
      "execution_count": 0,
      "outputs": []
    },
    {
      "cell_type": "code",
      "metadata": {
        "id": "XJdweFs6OTUW",
        "colab_type": "code",
        "colab": {
          "base_uri": "https://localhost:8080/",
          "height": 357
        },
        "outputId": "8b390054-9f4c-4e69-afdd-f5f6965c4c2e"
      },
      "source": [
        "data.isnull().sum()"
      ],
      "execution_count": 2,
      "outputs": [
        {
          "output_type": "execute_result",
          "data": {
            "text/plain": [
              "ID                                0\n",
              "Office_PIN                        0\n",
              "Applicant_City_PIN                0\n",
              "Applicant_Gender                 53\n",
              "Applicant_Marital_Status         59\n",
              "Applicant_Occupation           1090\n",
              "Applicant_Qualification          71\n",
              "Manager_Joining_Designation       0\n",
              "Manager_Current_Designation       0\n",
              "Manager_Grade                     0\n",
              "Manager_Status                    0\n",
              "Manager_Gender                    0\n",
              "Manager_Num_Application           0\n",
              "Manager_Num_Coded                 0\n",
              "Manager_Business                  0\n",
              "Manager_Num_Products              0\n",
              "Manager_Business2                 0\n",
              "Manager_Num_Products2             0\n",
              "Business_Sourced                  0\n",
              "dtype: int64"
            ]
          },
          "metadata": {
            "tags": []
          },
          "execution_count": 2
        }
      ]
    },
    {
      "cell_type": "code",
      "metadata": {
        "id": "3jmnlpwqPZtS",
        "colab_type": "code",
        "colab": {
          "base_uri": "https://localhost:8080/",
          "height": 357
        },
        "outputId": "82882ed1-63dc-4c3f-f967-5c4b30eeec44"
      },
      "source": [
        "data.dtypes"
      ],
      "execution_count": 3,
      "outputs": [
        {
          "output_type": "execute_result",
          "data": {
            "text/plain": [
              "ID                              object\n",
              "Office_PIN                       int64\n",
              "Applicant_City_PIN               int64\n",
              "Applicant_Gender                object\n",
              "Applicant_Marital_Status        object\n",
              "Applicant_Occupation            object\n",
              "Applicant_Qualification         object\n",
              "Manager_Joining_Designation     object\n",
              "Manager_Current_Designation     object\n",
              "Manager_Grade                  float64\n",
              "Manager_Status                  object\n",
              "Manager_Gender                  object\n",
              "Manager_Num_Application        float64\n",
              "Manager_Num_Coded              float64\n",
              "Manager_Business               float64\n",
              "Manager_Num_Products           float64\n",
              "Manager_Business2              float64\n",
              "Manager_Num_Products2          float64\n",
              "Business_Sourced                 int64\n",
              "dtype: object"
            ]
          },
          "metadata": {
            "tags": []
          },
          "execution_count": 3
        }
      ]
    },
    {
      "cell_type": "code",
      "metadata": {
        "id": "V9W-Ew2KOWoD",
        "colab_type": "code",
        "colab": {
          "base_uri": "https://localhost:8080/",
          "height": 224
        },
        "outputId": "f30ab2ee-7e2d-4b8c-f9ab-380a9fe8e26c"
      },
      "source": [
        "data.head()"
      ],
      "execution_count": 4,
      "outputs": [
        {
          "output_type": "execute_result",
          "data": {
            "text/html": [
              "<div>\n",
              "<style scoped>\n",
              "    .dataframe tbody tr th:only-of-type {\n",
              "        vertical-align: middle;\n",
              "    }\n",
              "\n",
              "    .dataframe tbody tr th {\n",
              "        vertical-align: top;\n",
              "    }\n",
              "\n",
              "    .dataframe thead th {\n",
              "        text-align: right;\n",
              "    }\n",
              "</style>\n",
              "<table border=\"1\" class=\"dataframe\">\n",
              "  <thead>\n",
              "    <tr style=\"text-align: right;\">\n",
              "      <th></th>\n",
              "      <th>ID</th>\n",
              "      <th>Office_PIN</th>\n",
              "      <th>Applicant_City_PIN</th>\n",
              "      <th>Applicant_Gender</th>\n",
              "      <th>Applicant_Marital_Status</th>\n",
              "      <th>Applicant_Occupation</th>\n",
              "      <th>Applicant_Qualification</th>\n",
              "      <th>Manager_Joining_Designation</th>\n",
              "      <th>Manager_Current_Designation</th>\n",
              "      <th>Manager_Grade</th>\n",
              "      <th>Manager_Status</th>\n",
              "      <th>Manager_Gender</th>\n",
              "      <th>Manager_Num_Application</th>\n",
              "      <th>Manager_Num_Coded</th>\n",
              "      <th>Manager_Business</th>\n",
              "      <th>Manager_Num_Products</th>\n",
              "      <th>Manager_Business2</th>\n",
              "      <th>Manager_Num_Products2</th>\n",
              "      <th>Business_Sourced</th>\n",
              "    </tr>\n",
              "  </thead>\n",
              "  <tbody>\n",
              "    <tr>\n",
              "      <th>0</th>\n",
              "      <td>FIN1000001</td>\n",
              "      <td>842001</td>\n",
              "      <td>844120</td>\n",
              "      <td>M</td>\n",
              "      <td>M</td>\n",
              "      <td>Others</td>\n",
              "      <td>Graduate</td>\n",
              "      <td>Level 1</td>\n",
              "      <td>Level 2</td>\n",
              "      <td>3.0</td>\n",
              "      <td>Confirmation</td>\n",
              "      <td>M</td>\n",
              "      <td>2.0</td>\n",
              "      <td>1.0</td>\n",
              "      <td>335249.0</td>\n",
              "      <td>28.0</td>\n",
              "      <td>335249.0</td>\n",
              "      <td>28.0</td>\n",
              "      <td>0</td>\n",
              "    </tr>\n",
              "    <tr>\n",
              "      <th>1</th>\n",
              "      <td>FIN1000002</td>\n",
              "      <td>842001</td>\n",
              "      <td>844111</td>\n",
              "      <td>M</td>\n",
              "      <td>S</td>\n",
              "      <td>Others</td>\n",
              "      <td>Class XII</td>\n",
              "      <td>Level 1</td>\n",
              "      <td>Level 2</td>\n",
              "      <td>3.0</td>\n",
              "      <td>Confirmation</td>\n",
              "      <td>M</td>\n",
              "      <td>2.0</td>\n",
              "      <td>1.0</td>\n",
              "      <td>335249.0</td>\n",
              "      <td>28.0</td>\n",
              "      <td>335249.0</td>\n",
              "      <td>28.0</td>\n",
              "      <td>1</td>\n",
              "    </tr>\n",
              "    <tr>\n",
              "      <th>2</th>\n",
              "      <td>FIN1000003</td>\n",
              "      <td>800001</td>\n",
              "      <td>844101</td>\n",
              "      <td>M</td>\n",
              "      <td>M</td>\n",
              "      <td>Business</td>\n",
              "      <td>Class XII</td>\n",
              "      <td>Level 1</td>\n",
              "      <td>Level 1</td>\n",
              "      <td>2.0</td>\n",
              "      <td>Confirmation</td>\n",
              "      <td>M</td>\n",
              "      <td>0.0</td>\n",
              "      <td>0.0</td>\n",
              "      <td>357184.0</td>\n",
              "      <td>24.0</td>\n",
              "      <td>357184.0</td>\n",
              "      <td>24.0</td>\n",
              "      <td>0</td>\n",
              "    </tr>\n",
              "    <tr>\n",
              "      <th>3</th>\n",
              "      <td>FIN1000004</td>\n",
              "      <td>814112</td>\n",
              "      <td>814112</td>\n",
              "      <td>M</td>\n",
              "      <td>S</td>\n",
              "      <td>Salaried</td>\n",
              "      <td>Class XII</td>\n",
              "      <td>Level 1</td>\n",
              "      <td>Level 3</td>\n",
              "      <td>4.0</td>\n",
              "      <td>Confirmation</td>\n",
              "      <td>F</td>\n",
              "      <td>0.0</td>\n",
              "      <td>0.0</td>\n",
              "      <td>318356.0</td>\n",
              "      <td>22.0</td>\n",
              "      <td>318356.0</td>\n",
              "      <td>22.0</td>\n",
              "      <td>0</td>\n",
              "    </tr>\n",
              "    <tr>\n",
              "      <th>4</th>\n",
              "      <td>FIN1000005</td>\n",
              "      <td>814112</td>\n",
              "      <td>815351</td>\n",
              "      <td>M</td>\n",
              "      <td>M</td>\n",
              "      <td>Others</td>\n",
              "      <td>Class XII</td>\n",
              "      <td>Level 1</td>\n",
              "      <td>Level 1</td>\n",
              "      <td>2.0</td>\n",
              "      <td>Confirmation</td>\n",
              "      <td>M</td>\n",
              "      <td>2.0</td>\n",
              "      <td>1.0</td>\n",
              "      <td>230402.0</td>\n",
              "      <td>17.0</td>\n",
              "      <td>230402.0</td>\n",
              "      <td>17.0</td>\n",
              "      <td>0</td>\n",
              "    </tr>\n",
              "  </tbody>\n",
              "</table>\n",
              "</div>"
            ],
            "text/plain": [
              "           ID  Office_PIN  ...  Manager_Num_Products2 Business_Sourced\n",
              "0  FIN1000001      842001  ...                   28.0                0\n",
              "1  FIN1000002      842001  ...                   28.0                1\n",
              "2  FIN1000003      800001  ...                   24.0                0\n",
              "3  FIN1000004      814112  ...                   22.0                0\n",
              "4  FIN1000005      814112  ...                   17.0                0\n",
              "\n",
              "[5 rows x 19 columns]"
            ]
          },
          "metadata": {
            "tags": []
          },
          "execution_count": 4
        }
      ]
    },
    {
      "cell_type": "code",
      "metadata": {
        "id": "kDj4qz7ZOeTj",
        "colab_type": "code",
        "colab": {}
      },
      "source": [
        "data['Applicant_Gender'].fillna(data['Applicant_Gender'].mode()[0],inplace=True)"
      ],
      "execution_count": 0,
      "outputs": []
    },
    {
      "cell_type": "code",
      "metadata": {
        "id": "AWcsN_e3PJdR",
        "colab_type": "code",
        "colab": {}
      },
      "source": [
        "data['Applicant_Marital_Status'].fillna(data['Applicant_Marital_Status'].mode()[0],inplace=True)"
      ],
      "execution_count": 0,
      "outputs": []
    },
    {
      "cell_type": "code",
      "metadata": {
        "id": "1J81rxKTPf3p",
        "colab_type": "code",
        "colab": {}
      },
      "source": [
        "data['Applicant_Occupation'].fillna(data['Applicant_Occupation'].mode()[0],inplace=True)"
      ],
      "execution_count": 0,
      "outputs": []
    },
    {
      "cell_type": "code",
      "metadata": {
        "id": "0wbG8uQiPyVb",
        "colab_type": "code",
        "colab": {}
      },
      "source": [
        "data['Applicant_Qualification'].fillna(data['Applicant_Qualification'].mode()[0],inplace=True)"
      ],
      "execution_count": 0,
      "outputs": []
    },
    {
      "cell_type": "code",
      "metadata": {
        "id": "B0oETctHQBH8",
        "colab_type": "code",
        "colab": {
          "base_uri": "https://localhost:8080/",
          "height": 357
        },
        "outputId": "865e17db-3346-4fba-faf4-57306bff08f7"
      },
      "source": [
        "data.isnull().sum()"
      ],
      "execution_count": 9,
      "outputs": [
        {
          "output_type": "execute_result",
          "data": {
            "text/plain": [
              "ID                             0\n",
              "Office_PIN                     0\n",
              "Applicant_City_PIN             0\n",
              "Applicant_Gender               0\n",
              "Applicant_Marital_Status       0\n",
              "Applicant_Occupation           0\n",
              "Applicant_Qualification        0\n",
              "Manager_Joining_Designation    0\n",
              "Manager_Current_Designation    0\n",
              "Manager_Grade                  0\n",
              "Manager_Status                 0\n",
              "Manager_Gender                 0\n",
              "Manager_Num_Application        0\n",
              "Manager_Num_Coded              0\n",
              "Manager_Business               0\n",
              "Manager_Num_Products           0\n",
              "Manager_Business2              0\n",
              "Manager_Num_Products2          0\n",
              "Business_Sourced               0\n",
              "dtype: int64"
            ]
          },
          "metadata": {
            "tags": []
          },
          "execution_count": 9
        }
      ]
    },
    {
      "cell_type": "code",
      "metadata": {
        "id": "ccb-7BYjQGnW",
        "colab_type": "code",
        "colab": {
          "base_uri": "https://localhost:8080/",
          "height": 410
        },
        "outputId": "bb6d2c35-1469-4324-9a93-44e0f51b2d42"
      },
      "source": [
        "data.describe(include='all')"
      ],
      "execution_count": 10,
      "outputs": [
        {
          "output_type": "execute_result",
          "data": {
            "text/html": [
              "<div>\n",
              "<style scoped>\n",
              "    .dataframe tbody tr th:only-of-type {\n",
              "        vertical-align: middle;\n",
              "    }\n",
              "\n",
              "    .dataframe tbody tr th {\n",
              "        vertical-align: top;\n",
              "    }\n",
              "\n",
              "    .dataframe thead th {\n",
              "        text-align: right;\n",
              "    }\n",
              "</style>\n",
              "<table border=\"1\" class=\"dataframe\">\n",
              "  <thead>\n",
              "    <tr style=\"text-align: right;\">\n",
              "      <th></th>\n",
              "      <th>ID</th>\n",
              "      <th>Office_PIN</th>\n",
              "      <th>Applicant_City_PIN</th>\n",
              "      <th>Applicant_Gender</th>\n",
              "      <th>Applicant_Marital_Status</th>\n",
              "      <th>Applicant_Occupation</th>\n",
              "      <th>Applicant_Qualification</th>\n",
              "      <th>Manager_Joining_Designation</th>\n",
              "      <th>Manager_Current_Designation</th>\n",
              "      <th>Manager_Grade</th>\n",
              "      <th>Manager_Status</th>\n",
              "      <th>Manager_Gender</th>\n",
              "      <th>Manager_Num_Application</th>\n",
              "      <th>Manager_Num_Coded</th>\n",
              "      <th>Manager_Business</th>\n",
              "      <th>Manager_Num_Products</th>\n",
              "      <th>Manager_Business2</th>\n",
              "      <th>Manager_Num_Products2</th>\n",
              "      <th>Business_Sourced</th>\n",
              "    </tr>\n",
              "  </thead>\n",
              "  <tbody>\n",
              "    <tr>\n",
              "      <th>count</th>\n",
              "      <td>8844</td>\n",
              "      <td>8844.000000</td>\n",
              "      <td>8844.000000</td>\n",
              "      <td>8844</td>\n",
              "      <td>8844</td>\n",
              "      <td>8844</td>\n",
              "      <td>8844</td>\n",
              "      <td>8844</td>\n",
              "      <td>8844</td>\n",
              "      <td>8844.000000</td>\n",
              "      <td>8844</td>\n",
              "      <td>8844</td>\n",
              "      <td>8844.000000</td>\n",
              "      <td>8844.000000</td>\n",
              "      <td>8.844000e+03</td>\n",
              "      <td>8844.000000</td>\n",
              "      <td>8.844000e+03</td>\n",
              "      <td>8844.000000</td>\n",
              "      <td>8844.000000</td>\n",
              "    </tr>\n",
              "    <tr>\n",
              "      <th>unique</th>\n",
              "      <td>8844</td>\n",
              "      <td>NaN</td>\n",
              "      <td>NaN</td>\n",
              "      <td>2</td>\n",
              "      <td>4</td>\n",
              "      <td>5</td>\n",
              "      <td>10</td>\n",
              "      <td>8</td>\n",
              "      <td>5</td>\n",
              "      <td>NaN</td>\n",
              "      <td>2</td>\n",
              "      <td>2</td>\n",
              "      <td>NaN</td>\n",
              "      <td>NaN</td>\n",
              "      <td>NaN</td>\n",
              "      <td>NaN</td>\n",
              "      <td>NaN</td>\n",
              "      <td>NaN</td>\n",
              "      <td>NaN</td>\n",
              "    </tr>\n",
              "    <tr>\n",
              "      <th>top</th>\n",
              "      <td>FIN1006918</td>\n",
              "      <td>NaN</td>\n",
              "      <td>NaN</td>\n",
              "      <td>M</td>\n",
              "      <td>M</td>\n",
              "      <td>Salaried</td>\n",
              "      <td>Class XII</td>\n",
              "      <td>Level 1</td>\n",
              "      <td>Level 2</td>\n",
              "      <td>NaN</td>\n",
              "      <td>Confirmation</td>\n",
              "      <td>M</td>\n",
              "      <td>NaN</td>\n",
              "      <td>NaN</td>\n",
              "      <td>NaN</td>\n",
              "      <td>NaN</td>\n",
              "      <td>NaN</td>\n",
              "      <td>NaN</td>\n",
              "      <td>NaN</td>\n",
              "    </tr>\n",
              "    <tr>\n",
              "      <th>freq</th>\n",
              "      <td>1</td>\n",
              "      <td>NaN</td>\n",
              "      <td>NaN</td>\n",
              "      <td>6709</td>\n",
              "      <td>5792</td>\n",
              "      <td>4636</td>\n",
              "      <td>5497</td>\n",
              "      <td>4632</td>\n",
              "      <td>3208</td>\n",
              "      <td>NaN</td>\n",
              "      <td>5277</td>\n",
              "      <td>7627</td>\n",
              "      <td>NaN</td>\n",
              "      <td>NaN</td>\n",
              "      <td>NaN</td>\n",
              "      <td>NaN</td>\n",
              "      <td>NaN</td>\n",
              "      <td>NaN</td>\n",
              "      <td>NaN</td>\n",
              "    </tr>\n",
              "    <tr>\n",
              "      <th>mean</th>\n",
              "      <td>NaN</td>\n",
              "      <td>450714.378562</td>\n",
              "      <td>452638.591022</td>\n",
              "      <td>NaN</td>\n",
              "      <td>NaN</td>\n",
              "      <td>NaN</td>\n",
              "      <td>NaN</td>\n",
              "      <td>NaN</td>\n",
              "      <td>NaN</td>\n",
              "      <td>3.264134</td>\n",
              "      <td>NaN</td>\n",
              "      <td>NaN</td>\n",
              "      <td>1.939733</td>\n",
              "      <td>0.758933</td>\n",
              "      <td>1.843710e+05</td>\n",
              "      <td>7.152307</td>\n",
              "      <td>1.829263e+05</td>\n",
              "      <td>7.131275</td>\n",
              "      <td>0.342718</td>\n",
              "    </tr>\n",
              "    <tr>\n",
              "      <th>std</th>\n",
              "      <td>NaN</td>\n",
              "      <td>234079.460837</td>\n",
              "      <td>238045.727919</td>\n",
              "      <td>NaN</td>\n",
              "      <td>NaN</td>\n",
              "      <td>NaN</td>\n",
              "      <td>NaN</td>\n",
              "      <td>NaN</td>\n",
              "      <td>NaN</td>\n",
              "      <td>1.137449</td>\n",
              "      <td>NaN</td>\n",
              "      <td>NaN</td>\n",
              "      <td>2.150529</td>\n",
              "      <td>1.188644</td>\n",
              "      <td>2.747163e+05</td>\n",
              "      <td>8.439351</td>\n",
              "      <td>2.718021e+05</td>\n",
              "      <td>8.423597</td>\n",
              "      <td>0.474645</td>\n",
              "    </tr>\n",
              "    <tr>\n",
              "      <th>min</th>\n",
              "      <td>NaN</td>\n",
              "      <td>110005.000000</td>\n",
              "      <td>110001.000000</td>\n",
              "      <td>NaN</td>\n",
              "      <td>NaN</td>\n",
              "      <td>NaN</td>\n",
              "      <td>NaN</td>\n",
              "      <td>NaN</td>\n",
              "      <td>NaN</td>\n",
              "      <td>1.000000</td>\n",
              "      <td>NaN</td>\n",
              "      <td>NaN</td>\n",
              "      <td>0.000000</td>\n",
              "      <td>0.000000</td>\n",
              "      <td>-2.652890e+05</td>\n",
              "      <td>0.000000</td>\n",
              "      <td>-2.652890e+05</td>\n",
              "      <td>0.000000</td>\n",
              "      <td>0.000000</td>\n",
              "    </tr>\n",
              "    <tr>\n",
              "      <th>25%</th>\n",
              "      <td>NaN</td>\n",
              "      <td>226001.000000</td>\n",
              "      <td>226002.000000</td>\n",
              "      <td>NaN</td>\n",
              "      <td>NaN</td>\n",
              "      <td>NaN</td>\n",
              "      <td>NaN</td>\n",
              "      <td>NaN</td>\n",
              "      <td>NaN</td>\n",
              "      <td>2.000000</td>\n",
              "      <td>NaN</td>\n",
              "      <td>NaN</td>\n",
              "      <td>0.000000</td>\n",
              "      <td>0.000000</td>\n",
              "      <td>0.000000e+00</td>\n",
              "      <td>0.000000</td>\n",
              "      <td>0.000000e+00</td>\n",
              "      <td>0.000000</td>\n",
              "      <td>0.000000</td>\n",
              "    </tr>\n",
              "    <tr>\n",
              "      <th>50%</th>\n",
              "      <td>NaN</td>\n",
              "      <td>416001.000000</td>\n",
              "      <td>422001.000000</td>\n",
              "      <td>NaN</td>\n",
              "      <td>NaN</td>\n",
              "      <td>NaN</td>\n",
              "      <td>NaN</td>\n",
              "      <td>NaN</td>\n",
              "      <td>NaN</td>\n",
              "      <td>3.000000</td>\n",
              "      <td>NaN</td>\n",
              "      <td>NaN</td>\n",
              "      <td>1.000000</td>\n",
              "      <td>0.000000</td>\n",
              "      <td>1.021780e+05</td>\n",
              "      <td>5.000000</td>\n",
              "      <td>1.017140e+05</td>\n",
              "      <td>5.000000</td>\n",
              "      <td>0.000000</td>\n",
              "    </tr>\n",
              "    <tr>\n",
              "      <th>75%</th>\n",
              "      <td>NaN</td>\n",
              "      <td>695014.000000</td>\n",
              "      <td>695009.000000</td>\n",
              "      <td>NaN</td>\n",
              "      <td>NaN</td>\n",
              "      <td>NaN</td>\n",
              "      <td>NaN</td>\n",
              "      <td>NaN</td>\n",
              "      <td>NaN</td>\n",
              "      <td>4.000000</td>\n",
              "      <td>NaN</td>\n",
              "      <td>NaN</td>\n",
              "      <td>3.000000</td>\n",
              "      <td>1.000000</td>\n",
              "      <td>2.471165e+05</td>\n",
              "      <td>11.000000</td>\n",
              "      <td>2.464612e+05</td>\n",
              "      <td>11.000000</td>\n",
              "      <td>1.000000</td>\n",
              "    </tr>\n",
              "    <tr>\n",
              "      <th>max</th>\n",
              "      <td>NaN</td>\n",
              "      <td>851101.000000</td>\n",
              "      <td>995657.000000</td>\n",
              "      <td>NaN</td>\n",
              "      <td>NaN</td>\n",
              "      <td>NaN</td>\n",
              "      <td>NaN</td>\n",
              "      <td>NaN</td>\n",
              "      <td>NaN</td>\n",
              "      <td>10.000000</td>\n",
              "      <td>NaN</td>\n",
              "      <td>NaN</td>\n",
              "      <td>22.000000</td>\n",
              "      <td>9.000000</td>\n",
              "      <td>3.578265e+06</td>\n",
              "      <td>101.000000</td>\n",
              "      <td>3.578265e+06</td>\n",
              "      <td>101.000000</td>\n",
              "      <td>1.000000</td>\n",
              "    </tr>\n",
              "  </tbody>\n",
              "</table>\n",
              "</div>"
            ],
            "text/plain": [
              "                ID     Office_PIN  ...  Manager_Num_Products2 Business_Sourced\n",
              "count         8844    8844.000000  ...            8844.000000      8844.000000\n",
              "unique        8844            NaN  ...                    NaN              NaN\n",
              "top     FIN1006918            NaN  ...                    NaN              NaN\n",
              "freq             1            NaN  ...                    NaN              NaN\n",
              "mean           NaN  450714.378562  ...               7.131275         0.342718\n",
              "std            NaN  234079.460837  ...               8.423597         0.474645\n",
              "min            NaN  110005.000000  ...               0.000000         0.000000\n",
              "25%            NaN  226001.000000  ...               0.000000         0.000000\n",
              "50%            NaN  416001.000000  ...               5.000000         0.000000\n",
              "75%            NaN  695014.000000  ...              11.000000         1.000000\n",
              "max            NaN  851101.000000  ...             101.000000         1.000000\n",
              "\n",
              "[11 rows x 19 columns]"
            ]
          },
          "metadata": {
            "tags": []
          },
          "execution_count": 10
        }
      ]
    },
    {
      "cell_type": "code",
      "metadata": {
        "id": "0jNFAlueQD_g",
        "colab_type": "code",
        "colab": {
          "base_uri": "https://localhost:8080/",
          "height": 357
        },
        "outputId": "504dcab7-bb84-480b-8846-65238cbb4bc7"
      },
      "source": [
        "data.dtypes"
      ],
      "execution_count": 11,
      "outputs": [
        {
          "output_type": "execute_result",
          "data": {
            "text/plain": [
              "ID                              object\n",
              "Office_PIN                       int64\n",
              "Applicant_City_PIN               int64\n",
              "Applicant_Gender                object\n",
              "Applicant_Marital_Status        object\n",
              "Applicant_Occupation            object\n",
              "Applicant_Qualification         object\n",
              "Manager_Joining_Designation     object\n",
              "Manager_Current_Designation     object\n",
              "Manager_Grade                  float64\n",
              "Manager_Status                  object\n",
              "Manager_Gender                  object\n",
              "Manager_Num_Application        float64\n",
              "Manager_Num_Coded              float64\n",
              "Manager_Business               float64\n",
              "Manager_Num_Products           float64\n",
              "Manager_Business2              float64\n",
              "Manager_Num_Products2          float64\n",
              "Business_Sourced                 int64\n",
              "dtype: object"
            ]
          },
          "metadata": {
            "tags": []
          },
          "execution_count": 11
        }
      ]
    },
    {
      "cell_type": "code",
      "metadata": {
        "id": "n41jFJBIQiHk",
        "colab_type": "code",
        "colab": {}
      },
      "source": [
        "temp=['Applicant_Gender','Applicant_Marital_Status','Applicant_Occupation','Applicant_Qualification','Manager_Joining_Designation','Manager_Current_Designation','Manager_Status','Manager_Gender']"
      ],
      "execution_count": 0,
      "outputs": []
    },
    {
      "cell_type": "code",
      "metadata": {
        "id": "9wIhdS28RnDh",
        "colab_type": "code",
        "colab": {
          "base_uri": "https://localhost:8080/",
          "height": 1000
        },
        "outputId": "3c46147c-c017-4f63-8f97-c23be1ef8c9e"
      },
      "source": [
        "for i in temp:\n",
        "  print(data[i].value_counts())\n",
        "  print('***********',i,'&&&&&&&&&&&&&')\n",
        "  print(' ')\n"
      ],
      "execution_count": 13,
      "outputs": [
        {
          "output_type": "stream",
          "text": [
            "M    6709\n",
            "F    2135\n",
            "Name: Applicant_Gender, dtype: int64\n",
            "*********** Applicant_Gender &&&&&&&&&&&&&\n",
            " \n",
            "M    5792\n",
            "S    3042\n",
            "W       6\n",
            "D       4\n",
            "Name: Applicant_Marital_Status, dtype: int64\n",
            "*********** Applicant_Marital_Status &&&&&&&&&&&&&\n",
            " \n",
            "Salaried         4636\n",
            "Business         2157\n",
            "Others           1809\n",
            "Self Employed     146\n",
            "Student            96\n",
            "Name: Applicant_Occupation, dtype: int64\n",
            "*********** Applicant_Occupation &&&&&&&&&&&&&\n",
            " \n",
            "Class XII                                                           5497\n",
            "Graduate                                                            2958\n",
            "Class X                                                              195\n",
            "Others                                                               116\n",
            "Masters of Business Administration                                    71\n",
            "Associate / Fellow of Institute of Chartered Accountans of India       3\n",
            "Professional Qualification in Marketing                                1\n",
            "Associate/Fellow of Acturial Society of India                          1\n",
            "Associate/Fellow of Institute of Company Secretories of India          1\n",
            "Associate/Fellow of Insurance Institute of India                       1\n",
            "Name: Applicant_Qualification, dtype: int64\n",
            "*********** Applicant_Qualification &&&&&&&&&&&&&\n",
            " \n",
            "Level 1    4632\n",
            "Level 2    2787\n",
            "Level 3    1146\n",
            "Level 4     200\n",
            "Other        58\n",
            "Level 6      18\n",
            "Level 7       2\n",
            "Level 5       1\n",
            "Name: Manager_Joining_Designation, dtype: int64\n",
            "*********** Manager_Joining_Designation &&&&&&&&&&&&&\n",
            " \n",
            "Level 2    3208\n",
            "Level 1    2479\n",
            "Level 3    2033\n",
            "Level 4    1031\n",
            "Level 5      93\n",
            "Name: Manager_Current_Designation, dtype: int64\n",
            "*********** Manager_Current_Designation &&&&&&&&&&&&&\n",
            " \n",
            "Confirmation    5277\n",
            "Probation       3567\n",
            "Name: Manager_Status, dtype: int64\n",
            "*********** Manager_Status &&&&&&&&&&&&&\n",
            " \n",
            "M    7627\n",
            "F    1217\n",
            "Name: Manager_Gender, dtype: int64\n",
            "*********** Manager_Gender &&&&&&&&&&&&&\n",
            " \n"
          ],
          "name": "stdout"
        }
      ]
    },
    {
      "cell_type": "code",
      "metadata": {
        "id": "61s_KB9SSa7y",
        "colab_type": "code",
        "colab": {}
      },
      "source": [
        "data=pd.get_dummies(data.drop(['ID'],axis=1))"
      ],
      "execution_count": 0,
      "outputs": []
    },
    {
      "cell_type": "markdown",
      "metadata": {
        "id": "owx53IlOSynI",
        "colab_type": "text"
      },
      "source": [
        "DATA CLEANED\n"
      ]
    },
    {
      "cell_type": "code",
      "metadata": {
        "id": "vWD3TFs-SqOm",
        "colab_type": "code",
        "colab": {}
      },
      "source": [
        "x=data.drop(['Business_Sourced'],axis=1)\n",
        "y=data['Business_Sourced']"
      ],
      "execution_count": 0,
      "outputs": []
    },
    {
      "cell_type": "code",
      "metadata": {
        "id": "1ApK7bxeTGN3",
        "colab_type": "code",
        "colab": {}
      },
      "source": [
        "from sklearn.model_selection import train_test_split\n",
        "x_train,x_test,y_train,y_test=train_test_split(x,y,random_state=42,stratify=y)\n"
      ],
      "execution_count": 0,
      "outputs": []
    },
    {
      "cell_type": "code",
      "metadata": {
        "id": "CtZ0gE89Tflp",
        "colab_type": "code",
        "colab": {
          "base_uri": "https://localhost:8080/",
          "height": 153
        },
        "outputId": "82b8a1a2-4abb-4d75-d33b-b4d406c66df5"
      },
      "source": [
        "from sklearn.ensemble import RandomForestClassifier\n",
        "clf=RandomForestClassifier()\n",
        "clf.fit(x_train,y_train)"
      ],
      "execution_count": 65,
      "outputs": [
        {
          "output_type": "execute_result",
          "data": {
            "text/plain": [
              "RandomForestClassifier(bootstrap=True, ccp_alpha=0.0, class_weight=None,\n",
              "                       criterion='gini', max_depth=None, max_features='auto',\n",
              "                       max_leaf_nodes=None, max_samples=None,\n",
              "                       min_impurity_decrease=0.0, min_impurity_split=None,\n",
              "                       min_samples_leaf=1, min_samples_split=2,\n",
              "                       min_weight_fraction_leaf=0.0, n_estimators=100,\n",
              "                       n_jobs=None, oob_score=False, random_state=None,\n",
              "                       verbose=0, warm_start=False)"
            ]
          },
          "metadata": {
            "tags": []
          },
          "execution_count": 65
        }
      ]
    },
    {
      "cell_type": "code",
      "metadata": {
        "id": "6XjjXG6pUb3P",
        "colab_type": "code",
        "colab": {}
      },
      "source": [
        "pred=clf.predict(x_test)"
      ],
      "execution_count": 0,
      "outputs": []
    },
    {
      "cell_type": "code",
      "metadata": {
        "id": "V44gJ9B-VNBT",
        "colab_type": "code",
        "colab": {}
      },
      "source": [
        "from sklearn.metrics import roc_auc_score"
      ],
      "execution_count": 0,
      "outputs": []
    },
    {
      "cell_type": "code",
      "metadata": {
        "id": "lFGimqHkVUqD",
        "colab_type": "code",
        "colab": {}
      },
      "source": [
        "score=roc_auc_score(pred,y_test)"
      ],
      "execution_count": 0,
      "outputs": []
    },
    {
      "cell_type": "code",
      "metadata": {
        "id": "Y5ERLTLjVatd",
        "colab_type": "code",
        "colab": {
          "base_uri": "https://localhost:8080/",
          "height": 34
        },
        "outputId": "cff8d9a3-de34-45ea-f85b-ded70611aa5d"
      },
      "source": [
        "score"
      ],
      "execution_count": 68,
      "outputs": [
        {
          "output_type": "execute_result",
          "data": {
            "text/plain": [
              "0.5750316578369298"
            ]
          },
          "metadata": {
            "tags": []
          },
          "execution_count": 68
        }
      ]
    },
    {
      "cell_type": "code",
      "metadata": {
        "id": "zgCSooAOVqNU",
        "colab_type": "code",
        "colab": {}
      },
      "source": [
        "pred_train=clf.predict(x_train)"
      ],
      "execution_count": 0,
      "outputs": []
    },
    {
      "cell_type": "code",
      "metadata": {
        "id": "m_-BjFtYVb80",
        "colab_type": "code",
        "colab": {}
      },
      "source": [
        "score_train=roc_auc_score(pred_train,y_train)"
      ],
      "execution_count": 0,
      "outputs": []
    },
    {
      "cell_type": "code",
      "metadata": {
        "id": "dsOY4yMVV0A6",
        "colab_type": "code",
        "colab": {
          "base_uri": "https://localhost:8080/",
          "height": 34
        },
        "outputId": "f5dba6fe-eb0e-4d49-804f-9132893833ed"
      },
      "source": [
        "score_train"
      ],
      "execution_count": 25,
      "outputs": [
        {
          "output_type": "execute_result",
          "data": {
            "text/plain": [
              "0.9926756714031215"
            ]
          },
          "metadata": {
            "tags": []
          },
          "execution_count": 25
        }
      ]
    },
    {
      "cell_type": "code",
      "metadata": {
        "id": "s8A1TBivV2DS",
        "colab_type": "code",
        "colab": {}
      },
      "source": [
        "score=[]\n",
        "for i in range(20,24):\n",
        "  clf=RandomForestClassifier(max_depth=i)\n",
        "  clf.fit(x_train,y_train)\n",
        "  pred=clf.predict(x_test)\n",
        "  score1=roc_auc_score(y_test,pred)\n",
        "  score.append(score1)\n"
      ],
      "execution_count": 0,
      "outputs": []
    },
    {
      "cell_type": "code",
      "metadata": {
        "id": "d1u8CFB8W6Vk",
        "colab_type": "code",
        "colab": {}
      },
      "source": [
        "frame=pd.DataFrame({'depth':range(20,24),'score':score})"
      ],
      "execution_count": 0,
      "outputs": []
    },
    {
      "cell_type": "code",
      "metadata": {
        "id": "BkhwU3lyYJ_z",
        "colab_type": "code",
        "colab": {
          "base_uri": "https://localhost:8080/",
          "height": 391
        },
        "outputId": "5f6e3def-8324-432e-db3d-0827ede2989c"
      },
      "source": [
        "import matplotlib.pyplot as plt\n",
        "%matplotlib inline\n",
        "plt.figure(figsize=(10,6))\n",
        "plt.plot(frame['depth'],frame['score'])"
      ],
      "execution_count": 42,
      "outputs": [
        {
          "output_type": "execute_result",
          "data": {
            "text/plain": [
              "[<matplotlib.lines.Line2D at 0x7f5686171630>]"
            ]
          },
          "metadata": {
            "tags": []
          },
          "execution_count": 42
        },
        {
          "output_type": "display_data",
          "data": {
            "image/png": "[encoded data removed]",
            "text/plain": [
              "<Figure size 720x432 with 1 Axes>"
            ]
          },
          "metadata": {
            "tags": [],
            "needs_background": "light"
          }
        }
      ]
    },
    {
      "cell_type": "code",
      "metadata": {
        "id": "Y0--hTmxYs2q",
        "colab_type": "code",
        "colab": {
          "base_uri": "https://localhost:8080/",
          "height": 153
        },
        "outputId": "4e088280-e1e7-48a5-b9f3-9941e663734d"
      },
      "source": [
        "clf=RandomForestClassifier()\n",
        "clf.fit(x_train,y_train)\n",
        "\n"
      ],
      "execution_count": 71,
      "outputs": [
        {
          "output_type": "execute_result",
          "data": {
            "text/plain": [
              "RandomForestClassifier(bootstrap=True, ccp_alpha=0.0, class_weight=None,\n",
              "                       criterion='gini', max_depth=None, max_features='auto',\n",
              "                       max_leaf_nodes=None, max_samples=None,\n",
              "                       min_impurity_decrease=0.0, min_impurity_split=None,\n",
              "                       min_samples_leaf=1, min_samples_split=2,\n",
              "                       min_weight_fraction_leaf=0.0, n_estimators=100,\n",
              "                       n_jobs=None, oob_score=False, random_state=None,\n",
              "                       verbose=0, warm_start=False)"
            ]
          },
          "metadata": {
            "tags": []
          },
          "execution_count": 71
        }
      ]
    },
    {
      "cell_type": "code",
      "metadata": {
        "id": "jH445LBdaull",
        "colab_type": "code",
        "colab": {}
      },
      "source": [
        "pred=clf.predict(x_test)\n",
        "score1=roc_auc_score(y_test,pred)\n",
        "  "
      ],
      "execution_count": 0,
      "outputs": []
    },
    {
      "cell_type": "code",
      "metadata": {
        "id": "NGI97ydlZoGc",
        "colab_type": "code",
        "colab": {
          "base_uri": "https://localhost:8080/",
          "height": 34
        },
        "outputId": "cb81257a-d4d0-43b5-c854-c95e5912985d"
      },
      "source": [
        "score1"
      ],
      "execution_count": 73,
      "outputs": [
        {
          "output_type": "execute_result",
          "data": {
            "text/plain": [
              "0.5504565206732681"
            ]
          },
          "metadata": {
            "tags": []
          },
          "execution_count": 73
        }
      ]
    },
    {
      "cell_type": "code",
      "metadata": {
        "id": "kjVtF2J_ZwME",
        "colab_type": "code",
        "colab": {
          "base_uri": "https://localhost:8080/",
          "height": 221
        },
        "outputId": "86ea97ed-a28c-40f1-bba3-299415932755"
      },
      "source": [
        "clf.feature_importances_"
      ],
      "execution_count": 74,
      "outputs": [
        {
          "output_type": "execute_result",
          "data": {
            "text/plain": [
              "array([1.32171633e-01, 2.02826843e-01, 2.33145558e-02, 7.31955330e-02,\n",
              "       3.89810296e-02, 7.66810578e-02, 5.31455202e-02, 7.65357880e-02,\n",
              "       5.19656889e-02, 1.36203466e-02, 1.37971394e-02, 3.65231705e-04,\n",
              "       1.99043880e-02, 1.87495361e-02, 3.57985606e-04, 1.88290571e-02,\n",
              "       1.84493426e-02, 2.17773064e-02, 5.13836944e-03, 4.01406945e-03,\n",
              "       1.90624511e-04, 1.36422086e-05, 9.21511167e-05, 1.37956097e-04,\n",
              "       4.16712126e-03, 1.62282132e-02, 1.56066984e-02, 2.23703823e-03,\n",
              "       4.24095916e-03, 6.78375935e-05, 9.96420990e-03, 9.90535062e-03,\n",
              "       5.70661691e-03, 2.93383287e-03, 2.84558343e-05, 7.22099832e-04,\n",
              "       8.23553397e-05, 9.57401860e-04, 7.17039402e-03, 9.11963764e-03,\n",
              "       8.63564484e-03, 6.93465267e-03, 1.45036375e-03, 5.19341125e-03,\n",
              "       4.96942635e-03, 9.61007494e-03, 9.81340789e-03])"
            ]
          },
          "metadata": {
            "tags": []
          },
          "execution_count": 74
        }
      ]
    },
    {
      "cell_type": "code",
      "metadata": {
        "id": "pMmfqmWPbH3d",
        "colab_type": "code",
        "colab": {}
      },
      "source": [
        "car=pd.DataFrame({'features':x.columns,'Impo':clf.feature_importances_})\n"
      ],
      "execution_count": 0,
      "outputs": []
    },
    {
      "cell_type": "code",
      "metadata": {
        "id": "kLkyKVRtbb4Q",
        "colab_type": "code",
        "colab": {
          "base_uri": "https://localhost:8080/",
          "height": 1000
        },
        "outputId": "a4635923-e28d-4fac-e9df-4d721369e646"
      },
      "source": [
        "car"
      ],
      "execution_count": 77,
      "outputs": [
        {
          "output_type": "execute_result",
          "data": {
            "text/html": [
              "<div>\n",
              "<style scoped>\n",
              "    .dataframe tbody tr th:only-of-type {\n",
              "        vertical-align: middle;\n",
              "    }\n",
              "\n",
              "    .dataframe tbody tr th {\n",
              "        vertical-align: top;\n",
              "    }\n",
              "\n",
              "    .dataframe thead th {\n",
              "        text-align: right;\n",
              "    }\n",
              "</style>\n",
              "<table border=\"1\" class=\"dataframe\">\n",
              "  <thead>\n",
              "    <tr style=\"text-align: right;\">\n",
              "      <th></th>\n",
              "      <th>features</th>\n",
              "      <th>Impo</th>\n",
              "    </tr>\n",
              "  </thead>\n",
              "  <tbody>\n",
              "    <tr>\n",
              "      <th>0</th>\n",
              "      <td>Office_PIN</td>\n",
              "      <td>0.132172</td>\n",
              "    </tr>\n",
              "    <tr>\n",
              "      <th>1</th>\n",
              "      <td>Applicant_City_PIN</td>\n",
              "      <td>0.202827</td>\n",
              "    </tr>\n",
              "    <tr>\n",
              "      <th>2</th>\n",
              "      <td>Manager_Grade</td>\n",
              "      <td>0.023315</td>\n",
              "    </tr>\n",
              "    <tr>\n",
              "      <th>3</th>\n",
              "      <td>Manager_Num_Application</td>\n",
              "      <td>0.073196</td>\n",
              "    </tr>\n",
              "    <tr>\n",
              "      <th>4</th>\n",
              "      <td>Manager_Num_Coded</td>\n",
              "      <td>0.038981</td>\n",
              "    </tr>\n",
              "    <tr>\n",
              "      <th>5</th>\n",
              "      <td>Manager_Business</td>\n",
              "      <td>0.076681</td>\n",
              "    </tr>\n",
              "    <tr>\n",
              "      <th>6</th>\n",
              "      <td>Manager_Num_Products</td>\n",
              "      <td>0.053146</td>\n",
              "    </tr>\n",
              "    <tr>\n",
              "      <th>7</th>\n",
              "      <td>Manager_Business2</td>\n",
              "      <td>0.076536</td>\n",
              "    </tr>\n",
              "    <tr>\n",
              "      <th>8</th>\n",
              "      <td>Manager_Num_Products2</td>\n",
              "      <td>0.051966</td>\n",
              "    </tr>\n",
              "    <tr>\n",
              "      <th>9</th>\n",
              "      <td>Applicant_Gender_F</td>\n",
              "      <td>0.013620</td>\n",
              "    </tr>\n",
              "    <tr>\n",
              "      <th>10</th>\n",
              "      <td>Applicant_Gender_M</td>\n",
              "      <td>0.013797</td>\n",
              "    </tr>\n",
              "    <tr>\n",
              "      <th>11</th>\n",
              "      <td>Applicant_Marital_Status_D</td>\n",
              "      <td>0.000365</td>\n",
              "    </tr>\n",
              "    <tr>\n",
              "      <th>12</th>\n",
              "      <td>Applicant_Marital_Status_M</td>\n",
              "      <td>0.019904</td>\n",
              "    </tr>\n",
              "    <tr>\n",
              "      <th>13</th>\n",
              "      <td>Applicant_Marital_Status_S</td>\n",
              "      <td>0.018750</td>\n",
              "    </tr>\n",
              "    <tr>\n",
              "      <th>14</th>\n",
              "      <td>Applicant_Marital_Status_W</td>\n",
              "      <td>0.000358</td>\n",
              "    </tr>\n",
              "    <tr>\n",
              "      <th>15</th>\n",
              "      <td>Applicant_Occupation_Business</td>\n",
              "      <td>0.018829</td>\n",
              "    </tr>\n",
              "    <tr>\n",
              "      <th>16</th>\n",
              "      <td>Applicant_Occupation_Others</td>\n",
              "      <td>0.018449</td>\n",
              "    </tr>\n",
              "    <tr>\n",
              "      <th>17</th>\n",
              "      <td>Applicant_Occupation_Salaried</td>\n",
              "      <td>0.021777</td>\n",
              "    </tr>\n",
              "    <tr>\n",
              "      <th>18</th>\n",
              "      <td>Applicant_Occupation_Self Employed</td>\n",
              "      <td>0.005138</td>\n",
              "    </tr>\n",
              "    <tr>\n",
              "      <th>19</th>\n",
              "      <td>Applicant_Occupation_Student</td>\n",
              "      <td>0.004014</td>\n",
              "    </tr>\n",
              "    <tr>\n",
              "      <th>20</th>\n",
              "      <td>Applicant_Qualification_Associate / Fellow of ...</td>\n",
              "      <td>0.000191</td>\n",
              "    </tr>\n",
              "    <tr>\n",
              "      <th>21</th>\n",
              "      <td>Applicant_Qualification_Associate/Fellow of Ac...</td>\n",
              "      <td>0.000014</td>\n",
              "    </tr>\n",
              "    <tr>\n",
              "      <th>22</th>\n",
              "      <td>Applicant_Qualification_Associate/Fellow of In...</td>\n",
              "      <td>0.000092</td>\n",
              "    </tr>\n",
              "    <tr>\n",
              "      <th>23</th>\n",
              "      <td>Applicant_Qualification_Associate/Fellow of In...</td>\n",
              "      <td>0.000138</td>\n",
              "    </tr>\n",
              "    <tr>\n",
              "      <th>24</th>\n",
              "      <td>Applicant_Qualification_Class X</td>\n",
              "      <td>0.004167</td>\n",
              "    </tr>\n",
              "    <tr>\n",
              "      <th>25</th>\n",
              "      <td>Applicant_Qualification_Class XII</td>\n",
              "      <td>0.016228</td>\n",
              "    </tr>\n",
              "    <tr>\n",
              "      <th>26</th>\n",
              "      <td>Applicant_Qualification_Graduate</td>\n",
              "      <td>0.015607</td>\n",
              "    </tr>\n",
              "    <tr>\n",
              "      <th>27</th>\n",
              "      <td>Applicant_Qualification_Masters of Business Ad...</td>\n",
              "      <td>0.002237</td>\n",
              "    </tr>\n",
              "    <tr>\n",
              "      <th>28</th>\n",
              "      <td>Applicant_Qualification_Others</td>\n",
              "      <td>0.004241</td>\n",
              "    </tr>\n",
              "    <tr>\n",
              "      <th>29</th>\n",
              "      <td>Applicant_Qualification_Professional Qualifica...</td>\n",
              "      <td>0.000068</td>\n",
              "    </tr>\n",
              "    <tr>\n",
              "      <th>30</th>\n",
              "      <td>Manager_Joining_Designation_Level 1</td>\n",
              "      <td>0.009964</td>\n",
              "    </tr>\n",
              "    <tr>\n",
              "      <th>31</th>\n",
              "      <td>Manager_Joining_Designation_Level 2</td>\n",
              "      <td>0.009905</td>\n",
              "    </tr>\n",
              "    <tr>\n",
              "      <th>32</th>\n",
              "      <td>Manager_Joining_Designation_Level 3</td>\n",
              "      <td>0.005707</td>\n",
              "    </tr>\n",
              "    <tr>\n",
              "      <th>33</th>\n",
              "      <td>Manager_Joining_Designation_Level 4</td>\n",
              "      <td>0.002934</td>\n",
              "    </tr>\n",
              "    <tr>\n",
              "      <th>34</th>\n",
              "      <td>Manager_Joining_Designation_Level 5</td>\n",
              "      <td>0.000028</td>\n",
              "    </tr>\n",
              "    <tr>\n",
              "      <th>35</th>\n",
              "      <td>Manager_Joining_Designation_Level 6</td>\n",
              "      <td>0.000722</td>\n",
              "    </tr>\n",
              "    <tr>\n",
              "      <th>36</th>\n",
              "      <td>Manager_Joining_Designation_Level 7</td>\n",
              "      <td>0.000082</td>\n",
              "    </tr>\n",
              "    <tr>\n",
              "      <th>37</th>\n",
              "      <td>Manager_Joining_Designation_Other</td>\n",
              "      <td>0.000957</td>\n",
              "    </tr>\n",
              "    <tr>\n",
              "      <th>38</th>\n",
              "      <td>Manager_Current_Designation_Level 1</td>\n",
              "      <td>0.007170</td>\n",
              "    </tr>\n",
              "    <tr>\n",
              "      <th>39</th>\n",
              "      <td>Manager_Current_Designation_Level 2</td>\n",
              "      <td>0.009120</td>\n",
              "    </tr>\n",
              "    <tr>\n",
              "      <th>40</th>\n",
              "      <td>Manager_Current_Designation_Level 3</td>\n",
              "      <td>0.008636</td>\n",
              "    </tr>\n",
              "    <tr>\n",
              "      <th>41</th>\n",
              "      <td>Manager_Current_Designation_Level 4</td>\n",
              "      <td>0.006935</td>\n",
              "    </tr>\n",
              "    <tr>\n",
              "      <th>42</th>\n",
              "      <td>Manager_Current_Designation_Level 5</td>\n",
              "      <td>0.001450</td>\n",
              "    </tr>\n",
              "    <tr>\n",
              "      <th>43</th>\n",
              "      <td>Manager_Status_Confirmation</td>\n",
              "      <td>0.005193</td>\n",
              "    </tr>\n",
              "    <tr>\n",
              "      <th>44</th>\n",
              "      <td>Manager_Status_Probation</td>\n",
              "      <td>0.004969</td>\n",
              "    </tr>\n",
              "    <tr>\n",
              "      <th>45</th>\n",
              "      <td>Manager_Gender_F</td>\n",
              "      <td>0.009610</td>\n",
              "    </tr>\n",
              "    <tr>\n",
              "      <th>46</th>\n",
              "      <td>Manager_Gender_M</td>\n",
              "      <td>0.009813</td>\n",
              "    </tr>\n",
              "  </tbody>\n",
              "</table>\n",
              "</div>"
            ],
            "text/plain": [
              "                                             features      Impo\n",
              "0                                          Office_PIN  0.132172\n",
              "1                                  Applicant_City_PIN  0.202827\n",
              "2                                       Manager_Grade  0.023315\n",
              "3                             Manager_Num_Application  0.073196\n",
              "4                                   Manager_Num_Coded  0.038981\n",
              "5                                    Manager_Business  0.076681\n",
              "6                                Manager_Num_Products  0.053146\n",
              "7                                   Manager_Business2  0.076536\n",
              "8                               Manager_Num_Products2  0.051966\n",
              "9                                  Applicant_Gender_F  0.013620\n",
              "10                                 Applicant_Gender_M  0.013797\n",
              "11                         Applicant_Marital_Status_D  0.000365\n",
              "12                         Applicant_Marital_Status_M  0.019904\n",
              "13                         Applicant_Marital_Status_S  0.018750\n",
              "14                         Applicant_Marital_Status_W  0.000358\n",
              "15                      Applicant_Occupation_Business  0.018829\n",
              "16                        Applicant_Occupation_Others  0.018449\n",
              "17                      Applicant_Occupation_Salaried  0.021777\n",
              "18                 Applicant_Occupation_Self Employed  0.005138\n",
              "19                       Applicant_Occupation_Student  0.004014\n",
              "20  Applicant_Qualification_Associate / Fellow of ...  0.000191\n",
              "21  Applicant_Qualification_Associate/Fellow of Ac...  0.000014\n",
              "22  Applicant_Qualification_Associate/Fellow of In...  0.000092\n",
              "23  Applicant_Qualification_Associate/Fellow of In...  0.000138\n",
              "24                    Applicant_Qualification_Class X  0.004167\n",
              "25                  Applicant_Qualification_Class XII  0.016228\n",
              "26                   Applicant_Qualification_Graduate  0.015607\n",
              "27  Applicant_Qualification_Masters of Business Ad...  0.002237\n",
              "28                     Applicant_Qualification_Others  0.004241\n",
              "29  Applicant_Qualification_Professional Qualifica...  0.000068\n",
              "30                Manager_Joining_Designation_Level 1  0.009964\n",
              "31                Manager_Joining_Designation_Level 2  0.009905\n",
              "32                Manager_Joining_Designation_Level 3  0.005707\n",
              "33                Manager_Joining_Designation_Level 4  0.002934\n",
              "34                Manager_Joining_Designation_Level 5  0.000028\n",
              "35                Manager_Joining_Designation_Level 6  0.000722\n",
              "36                Manager_Joining_Designation_Level 7  0.000082\n",
              "37                  Manager_Joining_Designation_Other  0.000957\n",
              "38                Manager_Current_Designation_Level 1  0.007170\n",
              "39                Manager_Current_Designation_Level 2  0.009120\n",
              "40                Manager_Current_Designation_Level 3  0.008636\n",
              "41                Manager_Current_Designation_Level 4  0.006935\n",
              "42                Manager_Current_Designation_Level 5  0.001450\n",
              "43                        Manager_Status_Confirmation  0.005193\n",
              "44                           Manager_Status_Probation  0.004969\n",
              "45                                   Manager_Gender_F  0.009610\n",
              "46                                   Manager_Gender_M  0.009813"
            ]
          },
          "metadata": {
            "tags": []
          },
          "execution_count": 77
        }
      ]
    },
    {
      "cell_type": "code",
      "metadata": {
        "id": "s9EaFbHXbjLn",
        "colab_type": "code",
        "colab": {
          "base_uri": "https://localhost:8080/",
          "height": 833
        },
        "outputId": "f8a408c7-41b8-45b8-b4d1-9d7d91933093"
      },
      "source": [
        "pd.Series(clf.feature_importances_,index=x.columns)"
      ],
      "execution_count": 78,
      "outputs": [
        {
          "output_type": "execute_result",
          "data": {
            "text/plain": [
              "Office_PIN                                                                                  0.132172\n",
              "Applicant_City_PIN                                                                          0.202827\n",
              "Manager_Grade                                                                               0.023315\n",
              "Manager_Num_Application                                                                     0.073196\n",
              "Manager_Num_Coded                                                                           0.038981\n",
              "Manager_Business                                                                            0.076681\n",
              "Manager_Num_Products                                                                        0.053146\n",
              "Manager_Business2                                                                           0.076536\n",
              "Manager_Num_Products2                                                                       0.051966\n",
              "Applicant_Gender_F                                                                          0.013620\n",
              "Applicant_Gender_M                                                                          0.013797\n",
              "Applicant_Marital_Status_D                                                                  0.000365\n",
              "Applicant_Marital_Status_M                                                                  0.019904\n",
              "Applicant_Marital_Status_S                                                                  0.018750\n",
              "Applicant_Marital_Status_W                                                                  0.000358\n",
              "Applicant_Occupation_Business                                                               0.018829\n",
              "Applicant_Occupation_Others                                                                 0.018449\n",
              "Applicant_Occupation_Salaried                                                               0.021777\n",
              "Applicant_Occupation_Self Employed                                                          0.005138\n",
              "Applicant_Occupation_Student                                                                0.004014\n",
              "Applicant_Qualification_Associate / Fellow of Institute of Chartered Accountans of India    0.000191\n",
              "Applicant_Qualification_Associate/Fellow of Acturial Society of India                       0.000014\n",
              "Applicant_Qualification_Associate/Fellow of Institute of Company Secretories of India       0.000092\n",
              "Applicant_Qualification_Associate/Fellow of Insurance Institute of India                    0.000138\n",
              "Applicant_Qualification_Class X                                                             0.004167\n",
              "Applicant_Qualification_Class XII                                                           0.016228\n",
              "Applicant_Qualification_Graduate                                                            0.015607\n",
              "Applicant_Qualification_Masters of Business Administration                                  0.002237\n",
              "Applicant_Qualification_Others                                                              0.004241\n",
              "Applicant_Qualification_Professional Qualification in Marketing                             0.000068\n",
              "Manager_Joining_Designation_Level 1                                                         0.009964\n",
              "Manager_Joining_Designation_Level 2                                                         0.009905\n",
              "Manager_Joining_Designation_Level 3                                                         0.005707\n",
              "Manager_Joining_Designation_Level 4                                                         0.002934\n",
              "Manager_Joining_Designation_Level 5                                                         0.000028\n",
              "Manager_Joining_Designation_Level 6                                                         0.000722\n",
              "Manager_Joining_Designation_Level 7                                                         0.000082\n",
              "Manager_Joining_Designation_Other                                                           0.000957\n",
              "Manager_Current_Designation_Level 1                                                         0.007170\n",
              "Manager_Current_Designation_Level 2                                                         0.009120\n",
              "Manager_Current_Designation_Level 3                                                         0.008636\n",
              "Manager_Current_Designation_Level 4                                                         0.006935\n",
              "Manager_Current_Designation_Level 5                                                         0.001450\n",
              "Manager_Status_Confirmation                                                                 0.005193\n",
              "Manager_Status_Probation                                                                    0.004969\n",
              "Manager_Gender_F                                                                            0.009610\n",
              "Manager_Gender_M                                                                            0.009813\n",
              "dtype: float64"
            ]
          },
          "metadata": {
            "tags": []
          },
          "execution_count": 78
        }
      ]
    },
    {
      "cell_type": "code",
      "metadata": {
        "id": "-UbPg4hzb3zO",
        "colab_type": "code",
        "colab": {}
      },
      "source": [
        ""
      ],
      "execution_count": 0,
      "outputs": []
    }
  ]
}